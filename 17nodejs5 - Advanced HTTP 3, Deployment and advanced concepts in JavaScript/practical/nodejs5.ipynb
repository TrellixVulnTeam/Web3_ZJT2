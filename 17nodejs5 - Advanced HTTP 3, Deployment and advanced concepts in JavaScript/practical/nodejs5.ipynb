{
 "cells": [
  {
   "cell_type": "markdown",
   "metadata": {},
   "source": [
    "# node.js 5 \n",
    "\n",
    "## Deployment of node.js applications in Heroku\n",
    "\n",
    "[Heroku](https://heroku.com/) is a cloud platform as a service (PaaS) supporting several programming languages. It's an easy and powerfull way to deploy applications on the cloud and scale them easily, i.e. dynamically adapt to varying demand. Heroku supports many programming languages: Python, PHP, Java, Javascript (Node.js), Clojure and Scala.\n",
    "\n",
    "The first thing you need to do in this practical is to sign up with [Heroku](https://heroku.com/) in order to be able to use their cloud hosting services.\n",
    "\n",
    "The next step is to install the Heroku Command Line Interface (CLI), formerly known as the Heroku Toolbelt [Heroku CLI](https://devcenter.heroku.com/articles/heroku-cli). You will use the CLI to manage and scale your applications, to provision add-ons, to view the logs of your application as it runs on Heroku, as well as to help run your application locally.\n",
    "\n",
    "Once installed, you can use Heroku commands from your command shell. On Windows, start the Command Prompt (cmd.exe) or Powershell to access the command shell.\n",
    "\n",
    "Log in using the email address and password you used when creating your Heroku account. Authenticating is required to allow both the heroku and git commands to operate:\n",
    "\n",
    "`> heroku login`"
   ]
  },
  {
   "cell_type": "markdown",
   "metadata": {},
   "source": [
    "### Creating an example Application\n",
    "\n",
    "Let's create a `Node.js` application that can run on Heroku and locally (for testing). Our source code is going to be stored in a Git repository. Heroku uses Git for source code deployment.\n",
    "\n",
    "To create a new empty repository, run on a terminal:\n",
    "\n",
    "`> mkdir myapp`\n",
    "\n",
    "`> cd myapp`\n",
    "\n",
    "`> git init`\n",
    "\n",
    "You can also host this repository on [GitHub](https://github.com), this is optional but advised:\n",
    "\n",
    "- Create a repository on GitHub named `myapp`\n",
    "- On a terminal in the myapp folder run:\n",
    "\n",
    "`> git remote add origin https://github.com/YOUR GITHUB USERNAME/myapp.git`\n",
    "\n",
    "Now that our git repository is ready, we can start working on writting our `node.js` application.\n",
    "\n",
    "In a terminal in the myapp folder, run:\n",
    "\n",
    "`> npm init`\n",
    "\n",
    "As you already should know, `> npm init` will ask you for multiple questions and generate a `package.json` file. This file will contain the list of your dependencies (the librairies our app will depend on) and some others descriptive informations.\n",
    "\n",
    "It's time to commit our first commit for this application:\n",
    "\n",
    "`> git add package.json`\n",
    "`> git commit -m \"Base package.json`\n",
    "\n",
    "If you created a GitHub repository, now you can push your local repository to GitHub.\n",
    "\n",
    "`> git push -u origin master`\n",
    "\n",
    "Now that the git repository and the node module structure are setup, we are ready to start coding the application. This application will be a simple hello world.\n",
    "\n",
    "In node.js, the dependencies are listed in the `package.json` file. All dependencies from this file can be installed using the command `npm install .`. An other dependency can be installed and added to the `package.json` using: `npm install name@version --save`. Let's make our application dependent on the `Express` framework. Install it using:\n",
    "\n",
    "`> npm install express --save`\n",
    "\n",
    "write the following code in a file named `main.js``:"
   ]
  },
  {
   "cell_type": "code",
   "execution_count": null,
   "metadata": {
    "collapsed": true
   },
   "outputs": [],
   "source": [
    "var express = require(\"express\");\n",
    "var app = express();\n",
    "\n",
    "app.get('/', function(req, res) {\n",
    "  res.send(\"It's  alive!!!!\");\n",
    "});\n",
    "\n",
    "var port = Number(process.env.PORT || 5000);\n",
    "app.listen(port, function() {\n",
    "  console.log(\"Listening on \" + port);\n",
    "});"
   ]
  },
  {
   "cell_type": "markdown",
   "metadata": {},
   "source": [
    "Heroku convention needs a `Procfile` file that defines how to start the application. You can learn more about `Procfile` in the Heroku documentation.\n",
    "\n",
    "In your `myapp` root directory create a file named `Procfile` with the following content to explicitly declare what command should be executed to start your app:"
   ]
  },
  {
   "cell_type": "code",
   "execution_count": null,
   "metadata": {
    "collapsed": true
   },
   "outputs": [],
   "source": [
    "web: node main.js"
   ]
  },
  {
   "cell_type": "markdown",
   "metadata": {},
   "source": [
    "This declares a single process type, web, and the command needed to run it. The name web is important here. It declares that this process type will be attached to the HTTP routing stack of Heroku, and receive web traffic when deployed. This file simply tells Heroku that for starting this application, it needs to start a web dyno by running the command node `main.js`.\n",
    "\n",
    "Procfiles can contain additional process types. For example, you might declare one for a background worker process that processes items off a queue.\n",
    "\n",
    "A dyno by the way is a lightweight Linux container that runs a single user-specified command. A dyno can run any command available in its default environment or in your app’s slug (a compressed and pre-packaged copy of your application and its dependencies).\n",
    "\n",
    "Now that our application is coded, we need to run it locally for testing. To follow Heroku convention, we are not going to run node main.js directly but we are going to use [`Foreman`](https://github.com/ddollar/foreman).\n",
    "\n",
    "`Foreman` is Ruby module (a gem in Ruby's lingo) tool to run and manage procfile based applications. In order to use `Foreman`, you will need to install the [Ruby programming language](https://www.ruby-lang.org/en/) in case it is not available in your system. For window systems, just use the installer https://rubyinstaller.org/\n",
    "\n",
    "Once Ruby is installed ( you will need to restart the command prompt), you can use the `RubyGems` package manager to install Foreman.\n",
    "\n",
    "`> gem install foreman` \n",
    "\n",
    "And now finally start our application locally using foreman by running the command inside your `myapp` root folder:\n",
    "\n",
    "`> foreman start` \n",
    "\n",
    "You can now open a browser and take a look at http://localhost:5000."
   ]
  },
  {
   "cell_type": "markdown",
   "metadata": {},
   "source": [
    "### Deployment\n",
    "\n",
    "Finally, deployment time! but first, commit your changes (`main.js` and `Procfile`):\n",
    "\n",
    "List all the changes in your repository that need to be committed:\n",
    "\n",
    "`> git status` \n",
    "\n",
    "You can see that the folder node_modules is contained in the list. This folder contains all the dependencies of our app which we installed using `NPM`. We need to add this folder to a .gitignore file since we do not want to waste the Bandwidth of the potential users of our application. `NPM` will simply install for them all the dependencies of your application by using the information contained in the `package.json` file of your application.\n",
    "\n",
    "Copy and paste the following content to a file named `.gitignore` in your myapp folder."
   ]
  },
  {
   "cell_type": "raw",
   "metadata": {},
   "source": [
    "node_modules/\n",
    ".gitignore"
   ]
  },
  {
   "cell_type": "markdown",
   "metadata": {},
   "source": [
    "Windows Explorer will not allow you to create a file named starting with a `.`, so first create the name of the file as `gitignore` for instance, and then use the command line to change the name of the file.\n",
    "\n",
    "`> ren gitignore .gitignore`\n",
    "\n",
    "If you run \n",
    "\n",
    "`> git status`\n",
    "\n",
    "again, you can see that `node_modules/` is no longer present in the list.\n",
    "You can now commit the other changes using:\n",
    "\n",
    "`> git add .`\n",
    "\n",
    "`> git commit -m \"Base code\"`\n",
    "\n",
    "`> git push`"
   ]
  },
  {
   "cell_type": "markdown",
   "metadata": {},
   "source": [
    "## Deployment for real\n",
    "\n",
    "Create an app on Heroku, which prepares Heroku to receive your source code. This is done by simply running in your command prompt, the following command using the heroku CLI we installed earlier.\n",
    "\n",
    "`> heroku create`\n",
    "\n",
    "When you create an app, a git remote (called heroku) is also created and associated with your local git repository. Heroku generates a random URL  for your app ( mine for instance is `https://protected-citadel-54911.herokuapp.com/`), or you can pass a parameter to specify your own app name (assuming it has not been taken by someone else previously).\n",
    "\n",
    "Now deploy your code:\n",
    "\n",
    "git push heroku master\n",
    "\n",
    "`> git push heroku master`\n",
    "\n",
    "Heroku will log the installation of the node dependencies and the launch of your application.\n",
    "\n",
    "The application is now deployed. You can check it out by visiting the Heroku generated  URL. \n",
    "\n",
    "You can ensure that at least one instance of the app is running with the following command:\n",
    "\n",
    "`> heroku ps:scale web=1`\n",
    "\n",
    "A handy shortcut, for opening your online app is:\n",
    "\n",
    "`> heroku open` \n",
    "\n",
    "You can delete your cloud deployed app using:\n",
    "\n",
    "`> heroku apps:destroy --app NAME OF YOUR APP`"
   ]
  },
  {
   "cell_type": "markdown",
   "metadata": {},
   "source": [
    "### View logs\n",
    "\n",
    "Heroku treats logs as streams of time-ordered events aggregated from the output streams of all your app and Heroku components, providing a single channel for all of the events. View information about your running app using one of the logging commands:\n",
    "\n",
    "`> heroku logs --tail`\n",
    "\n",
    "Visit your application in the browser again, and you’ll see another log message generated. Press `Control+C` to stop streaming the logs.\n",
    "\n",
    "\n"
   ]
  },
  {
   "cell_type": "markdown",
   "metadata": {},
   "source": [
    "### Scale the app\n",
    "\n",
    "Right now, your app is running on a single web dyno. Think of a dyno as a lightweight container that runs the command specified in the `Procfile`.\n",
    "You can check how many dynos are running using the `ps` command:\n",
    "\n",
    "`> heroku ps`\n",
    "\n",
    "By default, your app is deployed on a free dyno. Free dynos will sleep after a half hour of inactivity (if they don’t receive any traffic). This causes a delay of a few seconds for the first request upon waking. Subsequent requests will perform normally. Free dynos also consume from a monthly, account-level quota of free dyno hours - as long as the quota is not exhausted, all free apps can continue to run.\n",
    "\n",
    "To avoid dyno sleeping, you can upgrade your Heroku account to a hobby or professional dyno type. For example, if you migrate your app to a professional dyno, you can easily scale it by running a command telling Heroku to execute a specific number of dynos, each running your web process type.\n",
    "\n",
    "Scaling an application on Heroku is equivalent to changing the number of dynos that are running. Scale the number of web dynos to zero:\n",
    "\n",
    "`> heroku ps:scale web=0`\n",
    "\n",
    "Access the app again by hitting refresh on the web tab, or\n",
    "\n",
    "`>heroku open` \n",
    "\n",
    "to open it in a web tab. You will get an error message because you no longer have any web dynos available to serve requests.\n",
    "\n",
    "Scale it up again:\n",
    "\n",
    "`> heroku ps:scale web=1`\n",
    "\n",
    "For abuse prevention, scaling a non-free application to more than one dyno requires account verification.\n",
    "\n",
    "____________________________________________________\n"
   ]
  },
  {
   "cell_type": "markdown",
   "metadata": {},
   "source": [
    "## Some advanced concepts in JavaScript and node.js\n",
    "\n",
    "### Promises\n",
    "\n",
    "A Promise object represents a value that may not be available yet, but will be resolved at some point in the future. It allows you to write **A**synchronous code in a more synchronous fashion. For example, if you use the promise API to make an asynchronous call to a remote web service you will create a Promise object which represents the data that will be returned by the web service in future. The caveat being that the actual data is not available yet. It will become available when the request completes and a response comes back from the web service. In the meantime, the Promise object acts like a proxy to the actual data. Furthermore, you can attach callbacks to the Promise object which will be called once the actual data is available.\n",
    "\n",
    "To get started, let’s examine the following code which creates a new Promise object."
   ]
  },
  {
   "cell_type": "code",
   "execution_count": 12,
   "metadata": {
    "collapsed": false
   },
   "outputs": [
    {
     "data": {
      "text/plain": [
       "undefined"
      ]
     },
     "execution_count": 12,
     "metadata": {},
     "output_type": "execute_result"
    }
   ],
   "source": [
    "if (global.Promise) { // Check if the browser supports Promises\n",
    "  var promise = new Promise(function(resolve, reject) {\n",
    "    //asynchronous code goes here\n",
    "  });\n",
    "}"
   ]
  },
  {
   "cell_type": "markdown",
   "metadata": {},
   "source": [
    "We start by instantiating a new Promise object and passing it a callback function. The callback takes two arguments, resolve and reject, which are both functions. All your asynchronous code goes inside that callback. If everything is successful, the promise is fulfilled by calling `resolve()`. In case of an error, `reject()` is called with an `Error` object. This indicates that the promise is rejected."
   ]
  },
  {
   "cell_type": "markdown",
   "metadata": {
    "collapsed": true
   },
   "source": [
    "Promises give us another option of how to work with asynchronous code. Promises return an object which promises to do some work. This object has separate callbacks for success and failures. This let's us work with asynchronous code in a much more synchronous way. So, why would we want our asynchronous code to feel a bit more like synchronous code? Because one of the problems traditional asynchronous code can lead to is a large set of nested callbacks, sometimes referred to as callback hell.\n",
    "\n",
    "Let's take a closer look at what the nested callback issue really is. The following code snippet is not executable. It is only illustrative code to demonstrate the issue. \n",
    "\n",
    "As we can see below at the start of the code snippet, we have four objects `somedb`, `someWebAPI`, `token` and `security`. Each of these objects has a function that takes a callback as one of its parameters. And therefore we begin to chain the calls to these objects within the callbacks. We end up with something that's very unpleasant and confusing to look at."
   ]
  },
  {
   "cell_type": "code",
   "execution_count": null,
   "metadata": {
    "collapsed": true
   },
   "outputs": [],
   "source": [
    "// this is pesudo code - not executable js\n",
    "\n",
    "var somedb;\n",
    "var someWebAPI;\n",
    "var token;\n",
    "var security;\n",
    "\n",
    "someWebAPI.get('/login', function (req, res) {\n",
    "    token.checkToken(req.token, function (safe) {\n",
    "        somedb.find(username, function (req.user) {\n",
    "            security.checkPassword(user.password, req.password, function (matched) {\n",
    "                token.createToken(user.id, function (userData) {\n",
    "                    res.send(userData, function () {\n",
    "                        // error\n",
    "                    }, function () {\n",
    "                        //success\n",
    "                    })\n",
    "                })\n",
    "            })\n",
    "        })\n",
    "    })\n",
    "})\n"
   ]
  },
  {
   "cell_type": "markdown",
   "metadata": {},
   "source": [
    "The previous code snippet illustrating the problem of a large chain of nested callbacks is a very common problem when dealing with asynchronous code in `Javascript` and `node.js`. And there are several solutions to it. One of them is promises.\n",
    "\n",
    "The following code snippet (also not executable) illustrates how promises solve the nested callback issue. As you can see in the solution, all the callbacks are chained using the then function that wraps the next callback, and so on. "
   ]
  },
  {
   "cell_type": "code",
   "execution_count": null,
   "metadata": {
    "collapsed": true
   },
   "outputs": [],
   "source": [
    "someWebAPI.get('/login')\n",
    "    .then(token.checkToken(req.token))\n",
    "    .then(somedb.find(username))\n",
    "    .then(security.checkPassword(user.password, req.password))\n",
    "    .then(res.send(userData))\n",
    "    .success(function () {})\n",
    "    .error(function () {});"
   ]
  },
  {
   "cell_type": "markdown",
   "metadata": {},
   "source": [
    "There are many ways of implementing promises in JavaScript. according to several benchmarks, the library `BlueBird` offers one of the fastest implementation.  `BlueBird` promises are the fastest alternatives to callbacks and faster also than native promises that come with ES6 JavaScript. This is because BlueBird promises have lots of V8 specific optimizations and if we remember, V8 is the JavaScript engine behind tthe Google Chrome browser and behind `Node.js`.\n",
    "\n",
    "for the following example we will be working with a file: `data1.json` containing simply\n",
    "\n",
    "`\n",
    "{\n",
    "\"name\": \"Peter\"\n",
    "}\n",
    "`\n",
    "\n",
    "Study the following code snippet illustrating how to read a JSON file from the file system asynchronously using traditional callback functions. This approach should be very familiar to you at this stage. Notice also that we are properly handling potential errors. Try to change the name of the file being read to `data2.json` (an empty file that should be sitting in the folder where you are working) or to `data3.json` ( a file that should not even exist in the folder where your working)."
   ]
  },
  {
   "cell_type": "code",
   "execution_count": 6,
   "metadata": {
    "collapsed": false
   },
   "outputs": [
    {
     "data": {
      "text/plain": [
       "undefined"
      ]
     },
     "execution_count": 6,
     "metadata": {},
     "output_type": "execute_result"
    },
    {
     "name": "stdout",
     "output_type": "stream",
     "text": [
      "Peter\n"
     ]
    }
   ],
   "source": [
    "var fs = require('fs');\n",
    "\n",
    "fs.readFile('./data1.json', 'utf-8', function(err, data) {\n",
    "    \n",
    "    if(err) {\n",
    "        console.error(\"unable to read file\");\n",
    "    }\n",
    "    else {\n",
    "    \n",
    "        try {\n",
    "            data = JSON.parse(data);\n",
    "            console.log(data.name);\n",
    "        }\n",
    "        catch (e) {\n",
    "            console.error(\"invalid json in file\");\n",
    "        }\n",
    "    }\n",
    "});\n"
   ]
  },
  {
   "cell_type": "markdown",
   "metadata": {},
   "source": [
    "So basically the code works but due to the amount of functionality and error handling we implemented, it feels convoluted. Adding additional functionality and error handling would only make things worse.\n",
    "\n",
    "Alternatively, let's use promises for the same task.\n",
    "\n",
    "First, let's install the `BlueBird` library containing a fast implementation of promises. We'll use\n",
    "\n",
    "`> npm install bluebird` \n",
    "\n",
    "and then let's import the library into our script with `require` into a variable called Promise."
   ]
  },
  {
   "cell_type": "code",
   "execution_count": 10,
   "metadata": {
    "collapsed": false
   },
   "outputs": [
    {
     "data": {
      "text/plain": [
       "Promise {\n",
       "  _bitField: 0,\n",
       "  _fulfillmentHandler0: undefined,\n",
       "  _rejectionHandler0: undefined,\n",
       "  _promise0: undefined,\n",
       "  _receiver0: undefined }"
      ]
     },
     "execution_count": 10,
     "metadata": {},
     "output_type": "execute_result"
    },
    {
     "name": "stdout",
     "output_type": "stream",
     "text": [
      "{ name: 'Peter' }\n"
     ]
    }
   ],
   "source": [
    "var fs = require('fs');\n",
    "var Promise = require('bluebird');\n",
    "\n",
    "Promise.promisifyAll(fs);\n",
    "\n",
    "fs.readFileAsync('./data1.json')\n",
    "    .then(JSON.parse)\n",
    "    .then(function (val) {\n",
    "        console.log(val);\n",
    "    })\n",
    "    .catch(SyntaxError, function(e) {\n",
    "        console.error(\"invalid json in file\");\n",
    "    })\n",
    "    .catch(function(e) {\n",
    "        console.error(\"unable to read file\");\n",
    "    });"
   ]
  },
  {
   "cell_type": "markdown",
   "metadata": {},
   "source": [
    "`PromisifyAll` generates new functions with the keyword \"async\" as a suffix and adds them to the object. So it basically generates every function of the object with the suffix `Async` so we can work with the original functions in asynchronous mode. For our specific example, `PromisifyAll` created ( among others) a new function called readFileAsync. \n",
    "\n",
    "Observe that in our code for `readFileAsync`, we no longer need to supply a callback as a second parameter. For the first parameter, we'll supply the file name. In this case, `data1.json` (try also `data2.json` and `data3.json`). \n",
    "\n",
    "When using promises we create a chain of the functionality we need to add to our program. After reading the file data, the next thing we'll need to do in our chain as we did above is do a JSON.parse. Then after that, we display the value using a console.log and we'll put that inside an anonymous inline function.\n",
    "\n",
    "Dealing with errors is also added to the chain. We used a `.catch` and supply the error type as the first parameter. In this case, we used `SyntaxError` and we displayed the error. If it's a syntax error, that means it had problems with parsing the JSON file. For the `readFile` error, we used a catch as well, but we don't need to supply a type to fetch that specific error.\n",
    "\n",
    "Hopefully you have been able to see that both versions of the code provide the same functionality. But the promise version is a bit cleaner."
   ]
  },
  {
   "cell_type": "markdown",
   "metadata": {},
   "source": [
    "### Iterators\n",
    "\n",
    "An object is an iterator when it knows how to access items from a collection one at a time, while keeping track of its current position within that sequence. In JavaScript an iterator is an object that provides a next() method which returns the next item in the sequence. This method returns an object with two properties: done and value.\n",
    "\n",
    "Once created, an iterator object can be used explicitly by repeatedly calling next()."
   ]
  },
  {
   "cell_type": "code",
   "execution_count": 1,
   "metadata": {
    "collapsed": false
   },
   "outputs": [
    {
     "data": {
      "text/plain": [
       "undefined"
      ]
     },
     "execution_count": 1,
     "metadata": {},
     "output_type": "execute_result"
    }
   ],
   "source": [
    "function makeIterator(array){\n",
    "    var nextIndex = 0;\n",
    "    \n",
    "    return {\n",
    "       next: function(){\n",
    "           return nextIndex < array.length ?\n",
    "               {value: array[nextIndex++], done: false} : //If previous condition is true\n",
    "               {done: true}; //If previous condition is false\n",
    "       }\n",
    "    }\n",
    "}"
   ]
  },
  {
   "cell_type": "markdown",
   "metadata": {},
   "source": [
    "Initialization is straightforward:"
   ]
  },
  {
   "cell_type": "code",
   "execution_count": 6,
   "metadata": {
    "collapsed": false
   },
   "outputs": [
    {
     "data": {
      "text/plain": [
       "undefined"
      ]
     },
     "execution_count": 6,
     "metadata": {},
     "output_type": "execute_result"
    }
   ],
   "source": [
    "var it = makeIterator(['a', 'e','i', 'o','u']);"
   ]
  },
  {
   "cell_type": "markdown",
   "metadata": {},
   "source": [
    "Once initialized, the next() method can be called to access key-value pairs from the object in turn:"
   ]
  },
  {
   "cell_type": "code",
   "execution_count": 8,
   "metadata": {
    "collapsed": false
   },
   "outputs": [
    {
     "name": "stdout",
     "output_type": "stream",
     "text": [
      "undefined\n",
      "undefined\n",
      "true\n",
      "undefined\n",
      "undefined\n",
      "undefined\n",
      "true\n"
     ]
    },
    {
     "data": {
      "text/plain": [
       "undefined"
      ]
     },
     "execution_count": 8,
     "metadata": {},
     "output_type": "execute_result"
    }
   ],
   "source": [
    "console.log(it.next().value); // 'a'\n",
    "console.log(it.next().value); // 'e'\n",
    "console.log(it.next().done); // 'false'\n",
    "console.log(it.next().value); // 'i'\n",
    "console.log(it.next().value); // 'o'\n",
    "console.log(it.next().value); // 'u'\n",
    "console.log(it.next().done); // 'true'"
   ]
  },
  {
   "cell_type": "markdown",
   "metadata": {},
   "source": [
    "### Generators\n",
    "\n",
    "While custom iterators are a useful tool, their creation requires careful programming due to the need to explicitly maintain their internal state. Generators provide a powerful alternative: they allow you to define an iterative algorithm by writing a single function which can maintain its own state.\n",
    "\n",
    "A generator is a special type of function that works as a factory for iterators. A function becomes a generator if it contains one or more yield expressions and if it uses the `function*` syntax."
   ]
  },
  {
   "cell_type": "code",
   "execution_count": 19,
   "metadata": {
    "collapsed": false
   },
   "outputs": [
    {
     "name": "stdout",
     "output_type": "stream",
     "text": [
      "0\n",
      "1\n",
      "2\n"
     ]
    },
    {
     "data": {
      "text/plain": [
       "undefined"
      ]
     },
     "execution_count": 19,
     "metadata": {},
     "output_type": "execute_result"
    }
   ],
   "source": [
    "function* idMaker(){\n",
    "  var index = 0;\n",
    "  while(true)\n",
    "    yield index++;\n",
    "}\n",
    "\n",
    "var gen = idMaker();\n",
    "\n",
    "console.log(gen.next().value); // 0\n",
    "console.log(gen.next().value); // 1\n",
    "console.log(gen.next().value); // 2"
   ]
  }
 ],
 "metadata": {
  "anaconda-cloud": {},
  "kernelspec": {
   "display_name": "Javascript (Node.js)",
   "language": "javascript",
   "name": "javascript"
  },
  "language_info": {
   "file_extension": ".js",
   "mimetype": "application/javascript",
   "name": "javascript",
   "version": "6.10.1"
  }
 },
 "nbformat": 4,
 "nbformat_minor": 0
}
