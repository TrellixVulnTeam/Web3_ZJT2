{
 "cells": [
  {
   "cell_type": "markdown",
   "metadata": {},
   "source": [
    "# node.js 3\n"
   ]
  },
  {
   "cell_type": "markdown",
   "metadata": {},
   "source": [
    "## The HTTP module\n",
    "\n",
    "The `HTTP` module in `node.js` is used for creating web servers, for making HTTP requests and for handling HTTP responses. There are actually 2 modules for this. There's the `HTTP` module and the `HTTPS` module. Now, both of these modules are very similar, but we'll only use the `HTTPS` module when we're working with a secure server. \n",
    "\n",
    "### Making an HTTP request\n",
    "Let's begin by showing you how to carry out an HTTP request using `node.js` `HTTPS` module. We are going to need the `HTTPS` module because we are going to be making a request to [Wikipedia](https://en.wikipedia.org) which has server policy requiring the usage of HTTPS. We are going to be requesting the following resource https://en.wikipedia.org/wiki/Neil_Armstrong about Neil Armstrong, the commander of the Apollo 11 spacecraft who on July 21st 1969 became the first man to step on the moon. Once we have fetched the HTML document, we want to save it to our local file system.\n",
    "\n",
    "Study the following script in detail."
   ]
  },
  {
   "cell_type": "code",
   "execution_count": 7,
   "metadata": {
    "collapsed": false
   },
   "outputs": [
    {
     "data": {
      "text/plain": [
       "false"
      ]
     },
     "execution_count": 7,
     "metadata": {},
     "output_type": "execute_result"
    },
    {
     "name": "stdout",
     "output_type": "stream",
     "text": [
      "Response from server started.\n",
      "Server Status: 200 \n",
      "Response Headers: {\"date\":\"Thu, 30 Mar 2017 03:44:49 GMT\",\"content-type\":\"text/html; charset=UTF-8\",\"content-length\":\"385475\",\"connection\":\"close\",\"server\":\"mw1268.eqiad.wmnet\",\"x-powered-by\":\"HHVM/3.12.14\",\"vary\":\"Accept-Encoding,Cookie,Authorization\",\"x-ua-compatible\":\"IE=Edge\",\"content-language\":\"en\",\"p3p\":\"CP=\\\"This is not a P3P policy! See https://en.wikipedia.org/wiki/Special:CentralAutoLogin/P3P for more info.\\\"\",\"x-content-type-options\":\"nosniff\",\"last-modified\":\"Wed, 29 Mar 2017 08:36:46 GMT\",\"backend-timing\":\"D=1603443 t=1490776626074199\",\"x-varnish\":\"647504787, 841182749, 449204909 436702769, 669936871 46762716\",\"via\":\"1.1 varnish-v4, 1.1 varnish-v4, 1.1 varnish-v4, 1.1 varnish-v4\",\"age\":\"68861\",\"x-cache\":\"cp1052 miss, cp2023 miss, cp4016 hit/8, cp4016 hit/119\",\"x-cache-status\":\"hit\",\"strict-transport-security\":\"max-age=31536000; includeSubDomains; preload\",\"set-cookie\":[\"WMF-Last-Access=30-Mar-2017;Path=/;HttpOnly;secure;Expires=Mon, 01 May 2017 00:00:00 GMT\",\"WMF-Last-Access-Global=30-Mar-2017;Path=/;Domain=.wikipedia.org;HttpOnly;secure;Expires=Mon, 01 May 2017 00:00:00 GMT\",\"GeoIP=NZ:OTA:Dunedin:-45.87:170.51:v4; Path=/; secure; Domain=.wikipedia.org\"],\"x-analytics\":\"ns=0;page_id=21247;https=1;nocookies=1\",\"x-client-ip\":\"202.49.0.2\",\"cache-control\":\"private, s-maxage=0, max-age=0, must-revalidate\",\"accept-ranges\":\"bytes\"}\n",
      "<!DOCTYPE html>\n",
      "<html class=\"client-nojs\" lang=\"en\" dir=\"ltr\">\n",
      "<head>\n",
      "<meta charset=\"UTF-8\"/>\n",
      "<title>Neil Armstrong - Wikipedia</title>\n",
      "<script>document.documentElement.className = document.documentElement.className.replace( /(^|\\s)client-nojs(\\s|$)/, \"$1client-js$2\" );</script>\n",
      "<script>(window.RLQ=window.RLQ||[]).push(function(){mw.config.set({\"wgCanonicalNamespace\":\"\",\"wgCanonicalSpecialPageName\":false,\"wgNamespaceNumber\":0,\"wgPageName\":\"Neil_Armstrong\",\"wgTitle\":\"Neil Armstrong\",\"wgCurRevisionId\":769188270,\"wgRevisionId\":769188270,\"wgArticleId\":21247,\"wgIsArticle\":true,\"wgIsRedirect\":false,\"wgAction\":\"view\",\"wgUserName\":null,\"wgUserGroups\":[\"*\"],\"wgCategories\":[\"Pages using citations with accessdate and no URL\",\"CS1 Dutch-language sources (nl)\",\"Wikipedia indefinitely semi-protected pages\",\"Good articles\",\"Articles with hAudio microformats\",\"Webarchive template wayback links\",\"Use American English from July 2015\",\"All Wikipedia articles written in American English\",\"Use mdy dates from April 2015\",\"Wikipedia articles with VIAF identifiers\",\"Wikipedia articles with LCCN identifiers\",\"Wikipedia articles with ISNI identifiers\",\"Wikipedia articles with GND identifiers\",\"Wikipedia articles with BNF identifiers\",\"Wikipedia articles with MusicBrainz identif\n",
      "--chunk-- 1272\n",
      "--chunk-- 1300\n",
      "--chunk-- 196\n",
      "--chunk-- 1300\n",
      "--chunk-- 1300\n",
      "--chunk-- 1300\n",
      "--chunk-- 196\n",
      "--chunk-- 1300\n",
      "--chunk-- 1300\n",
      "--chunk-- 1300\n",
      "--chunk-- 196\n",
      "--chunk-- 1300\n",
      "--chunk-- 1300\n",
      "--chunk-- 1300\n",
      "--chunk-- 196\n",
      "--chunk-- 1300\n",
      "--chunk-- 1300\n",
      "--chunk-- 1298\n",
      "--chunk-- 196\n",
      "--chunk-- 1300\n",
      "--chunk-- 1300\n",
      "--chunk-- 1300\n",
      "--chunk-- 196\n",
      "--chunk-- 1300\n",
      "--chunk-- 1300\n",
      "--chunk-- 1300\n",
      "--chunk-- 196\n",
      "--chunk-- 1300\n",
      "--chunk-- 1300\n",
      "--chunk-- 1300\n",
      "--chunk-- 196\n",
      "--chunk-- 1300\n",
      "--chunk-- 28\n",
      "--chunk-- 1300\n",
      "--chunk-- 1300\n",
      "--chunk-- 1300\n",
      "--chunk-- 196\n",
      "--chunk-- 1300\n",
      "--chunk-- 1300\n",
      "--chunk-- 1300\n",
      "--chunk-- 196\n",
      "--chunk-- 4088\n",
      "--chunk-- 4096\n",
      "--chunk-- 4096\n",
      "--chunk-- 4094\n",
      "--chunk-- 4096\n",
      "--chunk-- 4096\n",
      "--chunk-- 4096\n",
      "--chunk-- 4094\n",
      "--chunk-- 4096\n",
      "--chunk-- 4092\n",
      "--chunk-- 4096\n",
      "--chunk-- 4091\n",
      "--chunk-- 4083\n",
      "--chunk-- 4095\n",
      "--chunk-- 4090\n",
      "--chunk-- 4096\n",
      "--chunk-- 4094\n",
      "--chunk-- 4092\n",
      "--chunk-- 4096\n",
      "--chunk-- 4096\n",
      "--chunk-- 4092\n",
      "--chunk-- 4094\n",
      "--chunk-- 4096\n",
      "--chunk-- 4094\n",
      "--chunk-- 4096\n",
      "--chunk-- 4096\n",
      "--chunk-- 4096\n",
      "--chunk-- 4096\n",
      "--chunk-- 4096\n",
      "--chunk-- 4096\n",
      "--chunk-- 4096\n",
      "--chunk-- 4092\n",
      "--chunk-- 4094\n",
      "--chunk-- 4092\n",
      "--chunk-- 4088\n",
      "--chunk-- 4090\n",
      "--chunk-- 4082\n",
      "--chunk-- 4088\n",
      "--chunk-- 4092\n",
      "--chunk-- 4096\n",
      "--chunk-- 12282\n",
      "--chunk-- 4096\n",
      "--chunk-- 4096\n",
      "--chunk-- 4094\n",
      "--chunk-- 4092\n",
      "--chunk-- 4088\n",
      "--chunk-- 4092\n",
      "--chunk-- 4096\n",
      "--chunk-- 4094\n",
      "--chunk-- 4096\n",
      "--chunk-- 4094\n",
      "--chunk-- 4096\n",
      "--chunk-- 4096\n",
      "--chunk-- 4092\n",
      "--chunk-- 4094\n",
      "--chunk-- 4096\n",
      "--chunk-- 4096\n",
      "--chunk-- 4096\n",
      "--chunk-- 4096\n",
      "--chunk-- 4096\n",
      "--chunk-- 4094\n",
      "--chunk-- 12286\n",
      "--chunk-- 4096\n",
      "--chunk-- 4096\n",
      "--chunk-- 4096\n",
      "--chunk-- 4092\n",
      "--chunk-- 4096\n",
      "--chunk-- 4096\n",
      "--chunk-- 4096\n",
      "--chunk-- 4094\n",
      "--chunk-- 3906\n",
      "--chunk-- 3877\n",
      "--chunk-- 3925\n",
      "--chunk-- 3873\n",
      "--chunk-- 3935\n",
      "--chunk-- 11540\n",
      "--chunk-- 3864\n",
      "--chunk-- 4074\n",
      "--chunk-- 451\n",
      "File Downloaded\n"
     ]
    }
   ],
   "source": [
    "var https = require(\"https\");\n",
    "var fs = require(\"fs\");\n",
    "\n",
    "\n",
    "//JavaScript object containing the details of the HTTP request to https://en.wikipedia.org/wiki/Neil_Armstrong\n",
    "var options = {\n",
    "    hostname: \"en.wikipedia.org\",\n",
    "    port: 443, //the default port for HTTPS requests\n",
    "    path: \"/wiki/Neil_Armstrong\",\n",
    "    method: \"GET\" //the HTTP method\n",
    "};\n",
    "\n",
    "//notice the callback function when we get a response from the server\n",
    "var request = https.request(options, function(response) {\n",
    "\n",
    "    var responseBody = \"\";\n",
    "\n",
    "    console.log(\"Response from server started.\");\n",
    "    //we want to know the status code of the HTTP response. Hopefully we get a 200\n",
    "    console.log(`Server Status: ${response.statusCode} `); \n",
    "    console.log(\"Response Headers: %j\", response.headers);\n",
    "\n",
    "    response.setEncoding(\"UTF-8\");\n",
    "\n",
    "    response.once(\"data\", function(chunk) {\n",
    "        console.log(chunk);\n",
    "    });\n",
    "\n",
    "    response.on(\"data\", function(chunk) {\n",
    "        console.log(`--chunk-- ${chunk.length}`);\n",
    "        //concatenate all the data in chunks received in the stream\n",
    "        responseBody += chunk;\n",
    "    });\n",
    "\n",
    "    response.on(\"end\", function() {\n",
    "        //the request object implements the event emitter interface, when the event\n",
    "        //'end' is fired, indicating the end of the HTTP response, we write all the data received to a file\n",
    "        fs.writeFile(\"neil-armstrong.html\", responseBody, function(err) {\n",
    "            if (err) {\n",
    "                throw err;\n",
    "            }\n",
    "            console.log(\"File Downloaded\");\n",
    "            \n",
    "        });\n",
    "    });\n",
    "    \n",
    "\n",
    "});\n",
    "\n",
    "//if an error occurs...\n",
    "request.on(\"error\", function(err) {\n",
    "    console.log(`problem with request: ${err.message}`);\n",
    "});\n",
    "\n",
    "request.end();\n",
    "\n"
   ]
  },
  {
   "cell_type": "markdown",
   "metadata": {},
   "source": [
    "if you open the downloaded data contained in file `neil-armstrong.html` you will find all the structure and information data data on the resource https://en.wikipedia.org/wiki/Neil_Armstrong but since we didn't download the externally linked CSS files, there will not be proper styling of the document. "
   ]
  },
  {
   "cell_type": "markdown",
   "metadata": {},
   "source": [
    "### A quick Web server demo"
   ]
  },
  {
   "cell_type": "markdown",
   "metadata": {},
   "source": [
    "To provide you with a flavor of how easy is to create a Web server application using node.js, I provide you next with a minimalistic Web server:"
   ]
  },
  {
   "cell_type": "code",
   "execution_count": 8,
   "metadata": {
    "collapsed": false
   },
   "outputs": [
    {
     "name": "stdout",
     "output_type": "stream",
     "text": [
      "Server running at http://127.0.0.1:8000/\n"
     ]
    },
    {
     "data": {
      "text/plain": [
       "undefined"
      ]
     },
     "execution_count": 8,
     "metadata": {},
     "output_type": "execute_result"
    }
   ],
   "source": [
    "// import a required module with functionality to create a Web server\n",
    "var http = require(\"http\");\n",
    "\n",
    "//create a Web server\n",
    "http.createServer(function (request, response) { //anonymous callback function\n",
    "   // Send the HTTP response with a HTTP Status: 200 : OK\n",
    "   // Content Type: text/html\n",
    "   response.writeHead(200, {'Content-Type': 'text/html'});\n",
    "   \n",
    "   // Send the response body as \"Hello World\"\n",
    "   response.end('<h1>Hello World\\n</h1>');\n",
    "}).listen(8000);\n",
    "\n",
    "// Console will print the message\n",
    "console.log('Server running at http://127.0.0.1:8000/');"
   ]
  },
  {
   "cell_type": "markdown",
   "metadata": {},
   "source": [
    "this simple Web server will be able to generate HTTP responses to HTTP requests from anywhere in the world. If your Internet service provider grants you a unique IP address (not at OP), find out the specific IP address of your computer through a service such as: https://www.google.co.nz/search?q=what+is+my+IP and place it in the URL bar of a browser from any device. If your Internet service provider is using IPv6, enclose the IP address in square brackets [] followed by : and the port that our Web server is listening to: 8000.\n",
    "\n",
    "![](./images/ws.png)"
   ]
  },
  {
   "cell_type": "markdown",
   "metadata": {},
   "source": [
    "<div align=\"right\"><sub>Adapted from https://nodejs.org/en/docs/guides/anatomy-of-an-http-transaction/</sub>\n",
    "</div>\n",
    "## Building a Web server step-by-step\n",
    "\n",
    "\n",
    "For the next part of the tutorial I recommend that you use an external file to build your own Web server step-by-step.\n",
    "\n",
    "I also recommend that you install the Google Chrome extension [Advanced REST client](https://chrome.google.com/webstore/detail/advanced-rest-client/hgmloofddffdnphfgcellkdfbfbjeloo) to be able to quickly and easily generate HTTP request and test your server. Once you have installed the [Advanced REST client](https://chrome.google.com/webstore/detail/advanced-rest-client/hgmloofddffdnphfgcellkdfbfbjeloo), go to\n",
    "chrome://apps/ in the address bar of Chrome, an click on the ARC icon. A new browser window will open from which you can craft and generate customized HTTP requests to test the Web server you will be creating in the rest of this practical.\n",
    "\n",
    "![](./images/arc.png)\n",
    "If you ever need/want to build a Web server using `node.js` and you don't want dependencies on frameworks, you will need to start by creating a server object using the `createServer` constructor of the `HTTP` module. "
   ]
  },
  {
   "cell_type": "code",
   "execution_count": 4,
   "metadata": {
    "collapsed": false
   },
   "outputs": [
    {
     "data": {
      "text/plain": [
       "undefined"
      ]
     },
     "execution_count": 4,
     "metadata": {},
     "output_type": "execute_result"
    }
   ],
   "source": [
    "var http = require('http');\n",
    "\n",
    "var server = http.createServer(function(request, response) {\n",
    "  // magic happens here!\n",
    "});"
   ]
  },
  {
   "cell_type": "markdown",
   "metadata": {},
   "source": [
    "The function that's passed in to `createServer` is called once for every HTTP request that's made against that server, so it's called the request handler. In fact, the `Server` object returned by `createServer` is an `EventEmitter`.\n",
    "\n",
    "Alternatively, we can use a shorthand for creating a server object and then adding the listener later."
   ]
  },
  {
   "cell_type": "code",
   "execution_count": null,
   "metadata": {
    "collapsed": true
   },
   "outputs": [],
   "source": [
    "var http = require('http');\n",
    "\n",
    "var server = http.createServer();\n",
    "server.on('request', function(request, response) {\n",
    "  // the same kind of magic happens here!\n",
    "});"
   ]
  },
  {
   "cell_type": "markdown",
   "metadata": {},
   "source": [
    "When an HTTP request hits the server, `node.js` calls the request handler function with a few handy objects for dealing with the transaction, `request` and `response` which are just abstractions of the corresponding HTTP request and HTTP response.\n",
    "\n",
    "In order to actually serve requests, the listen method needs to be called on the server object. In most cases, all you'll need to pass to listen is the port number you want the server to listen on. "
   ]
  },
  {
   "cell_type": "code",
   "execution_count": null,
   "metadata": {
    "collapsed": true
   },
   "outputs": [],
   "source": [
    "server.listen(8000);"
   ]
  },
  {
   "cell_type": "markdown",
   "metadata": {},
   "source": [
    "### Method, URL and Headers\n",
    "\n",
    "When handling a request, the first thing you'll probably want to do is look at the method and URL, so that appropriate actions can be taken. Node makes this relatively painless by putting handy properties onto the request object."
   ]
  },
  {
   "cell_type": "code",
   "execution_count": null,
   "metadata": {
    "collapsed": true
   },
   "outputs": [],
   "source": [
    "var method = request.method;\n",
    "var url = request.url;"
   ]
  },
  {
   "cell_type": "markdown",
   "metadata": {},
   "source": [
    "The `method` here will always be a normal HTTP method/verb (GET, POST, PUT, DELETE...). The url is the full URL without the server, protocol or port. For a typical URL, this means everything after and including the third forward slash.\n",
    "\n",
    "Headers are also not far away. They're in their own object on `request` called `headers`. It's important to note here that all headers are represented in lower-case only, regardless of how the client actually sent them. This simplifies the task of parsing headers for whatever purpose."
   ]
  },
  {
   "cell_type": "code",
   "execution_count": null,
   "metadata": {
    "collapsed": true
   },
   "outputs": [],
   "source": [
    "var headers = request.headers;\n",
    "var userAgent = headers['user-agent'];"
   ]
  },
  {
   "cell_type": "markdown",
   "metadata": {},
   "source": [
    "### Request body\n",
    "\n",
    "When receiving a `POST` or `PUT` request, the request body might be important to your application. Getting at the body data is a little more involved than accessing request headers. The `request` object that's passed in to a handler implements the `ReadableStream` interface. This stream can be listened to or piped elsewhere just like any other stream. We can grab the data right out of the stream by listening to the stream's `'data'` and `'end'` events.\n",
    "\n",
    "The chunk emitted in each 'data' event is a Buffer. If you know it's going to be string data, the best thing to do is collect the data in an array, then at the `'end'`, concatenate and stringify it."
   ]
  },
  {
   "cell_type": "code",
   "execution_count": null,
   "metadata": {
    "collapsed": true
   },
   "outputs": [],
   "source": [
    "var body = [];\n",
    "request.on('data', function(chunk) {\n",
    "  body.push(chunk);\n",
    "});\n",
    "\n",
    "request.on('end', function() {\n",
    "  body = Buffer.concat(body).toString();\n",
    "  // at this point, `body` has the entire request body stored in it as a string\n",
    "});"
   ]
  },
  {
   "cell_type": "markdown",
   "metadata": {},
   "source": [
    "### Errors\n",
    "\n",
    "Since the `request` object is a `ReadableStream`, it's also an `EventEmitter` and behaves like one when an error happens.\n",
    "\n",
    "An error in the request stream presents itself by emitting an `'error'` event on the stream. If you don't have a listener for that event, the error will be thrown, which could crash your `Node.js` program. You should therefore add an `'error'` listener on your request streams, even if you just log it and continue on your way. (Though it's probably best to send some kind of HTTP error response. More on that later.)"
   ]
  },
  {
   "cell_type": "code",
   "execution_count": null,
   "metadata": {
    "collapsed": true
   },
   "outputs": [],
   "source": [
    "request.on('error', function(err) {\n",
    "    // This prints the error message and stack trace to `stderr`.\n",
    "    console.error(err.stack);\n",
    "});"
   ]
  },
  {
   "cell_type": "markdown",
   "metadata": {},
   "source": [
    "if you ran the Web server you have constructed so far, you will be able to receive requests, but not respond to them. In fact, if you hit this example in a web browser, your request would time out, as nothing is being sent back to the client. \n",
    "\n",
    "make sure you use the [Advanced REST client](https://chrome.google.com/webstore/detail/advanced-rest-client/hgmloofddffdnphfgcellkdfbfbjeloo) to generate a few GET and POST HTTP requests to your server. Modify the code  of your server in order to log a few informative messages about the incoming HTTP requests and verify that everything is working as it should. That is, you are able to read the HTTP method of the HTTP client request, the request headers and the body raw data of an HTTP POST request.\n",
    "\n",
    "Let's now build the capability of your Web server to generate HTTP responses.\n",
    "\n",
    "The response object is an instance of `ServerResponse`, which is a `WritableStream`. It contains many useful methods for sending data back to the client. \n",
    "\n",
    "### HTTP Status Code\n",
    "\n",
    "If you don't bother setting it, the HTTP status code on a response will always be 200. Of course, not every HTTP response warrants this, and at some point you'll definitely want to send a different status code. To do that, you can set the statusCode property.\n"
   ]
  },
  {
   "cell_type": "code",
   "execution_count": null,
   "metadata": {
    "collapsed": true
   },
   "outputs": [],
   "source": [
    "//response.statusCode = 404; // Tell the client that the resource wasn't found.\n",
    "response.statusCode = 200; // Tell the client that the request has succeeded"
   ]
  },
  {
   "cell_type": "markdown",
   "metadata": {},
   "source": [
    "### Setting Response Headers\n",
    "\n",
    "Headers are set through a convenient method called `setHeader`. When setting the headers on a response, the case is insensitive on their names. If you set a header repeatedly, the last value you set is the value that gets sent.\n"
   ]
  },
  {
   "cell_type": "code",
   "execution_count": null,
   "metadata": {
    "collapsed": true
   },
   "outputs": [],
   "source": [
    "response.setHeader('Content-Type', 'text/html');\n",
    "response.setHeader('X-Powered-By', 'bacon');"
   ]
  },
  {
   "cell_type": "markdown",
   "metadata": {},
   "source": [
    "The methods of setting the headers and status code that we've already discussed assume that you're using \"implicit headers\". This means you're counting on node to send the headers for you at the correct time before you start sending body data.\n",
    "\n",
    "If you want, you can explicitly write the headers to the response stream. To do this, there's a method called `writeHead`, which writes the status code and the headers to the stream."
   ]
  },
  {
   "cell_type": "code",
   "execution_count": null,
   "metadata": {
    "collapsed": true
   },
   "outputs": [],
   "source": [
    "response.writeHead(200, {\n",
    "  'Content-Type': 'text/html',\n",
    "  'X-Powered-By': 'bacon'\n",
    "});"
   ]
  },
  {
   "cell_type": "markdown",
   "metadata": {},
   "source": [
    "Once you've set the headers (either implicitly or explicitly), you're ready to start sending response data.\n",
    "\n",
    "### Sending the Response Body\n",
    "\n",
    "Since the `response` object is a `WritableStream`, writing a response body out to the client is just a matter of using the usual stream methods."
   ]
  },
  {
   "cell_type": "code",
   "execution_count": null,
   "metadata": {
    "collapsed": true
   },
   "outputs": [],
   "source": [
    "response.write('<html>');\n",
    "response.write('<body>');\n",
    "response.write(`This is an HTTP response to an HTTP ${request.method} request pointing to URL path ${request.url}`);\n",
    "response.write('<h1>Hello, World!</h1>');\n",
    "response.write('</body>');\n",
    "response.write('</html>');\n",
    "response.end();"
   ]
  },
  {
   "cell_type": "markdown",
   "metadata": {},
   "source": [
    "The `end` function on streams can also take in some optional data to send as the last bit of data on the stream.\n",
    "\n",
    "It's important to set the status and headers before you start writing chunks of data to the body. This makes sense, since headers come before the body in HTTP responses.\n",
    "\n",
    "The response stream can also emit `'error'` events, and at some point you're going to have to deal with that as well. All of the advice for request stream errors still applies here.\n",
    "\n",
    "Finally, you need to make your server instance to listen on a given port for HTTP requests. In this example we will use port number 8000."
   ]
  },
  {
   "cell_type": "code",
   "execution_count": null,
   "metadata": {
    "collapsed": true
   },
   "outputs": [],
   "source": [
    "server.listen(8000);"
   ]
  },
  {
   "cell_type": "markdown",
   "metadata": {},
   "source": [
    "you can now run the Web server application you have created with node.js. Use your browser to navigate to http://localhost:8000/ to test that your Web server is working properly. Also, experiment with [Advanced REST client](https://chrome.google.com/webstore/detail/advanced-rest-client/hgmloofddffdnphfgcellkdfbfbjeloo) to generate HTTP requests."
   ]
  },
  {
   "cell_type": "markdown",
   "metadata": {},
   "source": [
    "### Collecting POST data\n",
    "\n",
    "So far we have created servers using the http module that only handled GET requests. We can use the http module to create servers that also handle POST requests, PUT requests, DELETE requests, and many others. Let's go ahead and build a server that can handle POST HTTP requests.\n",
    "\n",
    "Create the following HTML file named `index.html` and place it within a folder named `public`"
   ]
  },
  {
   "cell_type": "code",
   "execution_count": null,
   "metadata": {
    "collapsed": true
   },
   "outputs": [],
   "source": [
    "<!DOCTYPE html>\n",
    "<html>\n",
    "<head>\n",
    "  <title>Fill this Form</title>\n",
    "    <style>\n",
    "        label, input {\n",
    "            display: block;\n",
    "        }\n",
    "    </style>\n",
    "</head>\n",
    "<body>\n",
    "    <h1>Fill this Form</h1>\n",
    "\n",
    "    <form action=\"/\" method=\"post\">\n",
    "\n",
    "        <label for=\"first\">First name</label>\n",
    "        <input type=\"text\" id=\"first\" name=\"first\" required />\n",
    "\n",
    "        <label for=\"last\">Last Name</label>\n",
    "        <input type=\"text\" id=\"last\" name=\"last\" required />\n",
    "\n",
    "        <label for=\"email\">Email</label>\n",
    "        <input type=\"email\" id=\"email\" name=\"email\" required />\n",
    "\n",
    "        <button>Send</button>\n",
    "\n",
    "    </form>\n",
    "</body>\n",
    "</html>"
   ]
  },
  {
   "cell_type": "markdown",
   "metadata": {},
   "source": [
    "now study the code and comments in the following  script to understand how to process POST HTTP requests containing form data. Copy the script into its own file and place it in the parent folder of the `public` folder mentioned above."
   ]
  },
  {
   "cell_type": "code",
   "execution_count": null,
   "metadata": {
    "collapsed": true
   },
   "outputs": [],
   "source": [
    "var http = require(\"http\");\n",
    "var fs = require(\"fs\");\n",
    "\n",
    "//this module is necessary to process the data in the body of the HTTP POST request\n",
    "var qs = require('querystring');\n",
    "\n",
    "http.createServer(function(req, res) {\n",
    "    \n",
    "    //if the server gets a GET request \n",
    "    if (req.method === \"GET\") {\n",
    "        res.writeHead(200, {\"Content-Type\": \"text/html\"});\n",
    "        \n",
    "        //we serve the HTML file containing the form\n",
    "        //notice that we create a stream to read the data from file and we pipe it to the response object\n",
    "        fs.createReadStream(\"./public/index.html\", \"UTF-8\").pipe(res);\n",
    "        \n",
    "    } else if (req.method === \"POST\") {\n",
    "\n",
    "        var body = \"\";\n",
    "        \n",
    "        //for each incoming data chunk containing the data  in the form we concatenate it into an object named body\n",
    "        req.on(\"data\", function(chunk) {\n",
    "            body += chunk;\n",
    "        });\n",
    "\n",
    "        req.on(\"end\", function() {\n",
    "\n",
    "            res.writeHead(200, {\"Content-Type\": \"text/html\"});\n",
    "            \n",
    "            //we parse the body of the HTTP POST request into an indexed data structure\n",
    "            var postData = qs.parse(body);\n",
    "            res.end(`\n",
    "\n",
    "\n",
    "                <!DOCTYPE html>\n",
    "                <html>\n",
    "                    <head>\n",
    "                        <title>Form Results</title>\n",
    "                    </head>\n",
    "                    <body>\n",
    "                        <h1>Greetings ${postData.first}!</h1>\n",
    "                        <p>I have received an HTTP POST request with the following body</p>\n",
    "                        <p>${body}</p>\n",
    "                    </body>\n",
    "                </html>\n",
    "\n",
    "            `);\n",
    "        });\n",
    "    }\n",
    "\n",
    "}).listen(3000);\n",
    "\n",
    "console.log(\"Form server listening on port 3000\");"
   ]
  },
  {
   "cell_type": "markdown",
   "metadata": {},
   "source": [
    "Now go to http://localhost:3000/, fill out the form and make sure your script is correctly processing the POST data."
   ]
  },
  {
   "cell_type": "markdown",
   "metadata": {},
   "source": [
    "## Web Sockets\n",
    "\n",
    "Web Sockets are a new addition to the HTML5 Specification. Web Sockets allow for a true two way connection between the client and the server. Web Sockets use their own protocol (different from HTTP) to send and receive messages from a TCP server. At this point it might be useful to recall the 4 layer stack  on which the TCP/IP protocol is built. \n",
    "\n",
    "![](./images/4layerStack.png)\n",
    "\n",
    "Until recently, WebSockets were not part of the HTML Specification. Therefore, web developers had no way push information from the server to the browser. The browser had to constantly check the server API by making a GET request to see if the state of the server had changed. We call this polling. Polling is the process of checking the server to see if the state has changed. A long poll consist of making a request of a server and leaving it open for a longer period of time. We let that request time out when information hasn't changed. When you have a long poll, if information does change on the server, we can immediately receive a response with the changed information. So you can think of long polling as just a more efficient way of polling. \n",
    "\n",
    "But now with Web Sockets available to us, we can connect to a server and leave the connection open so that we can send and receive data. Web Sockets are not just limited to the browser. With Web Sockets, clients can connect to the server and leave a two way connection open. Through this connection, clients can send data that are easily broadcasted to every open connection. So the server is able to push data chain changes to the client using Web Sockets. Web Sockets are not just limited to the browser. Any client can connect to your server including native applications. \n",
    "\n",
    "Settinng up a Web Sockets from scratch on your web application can be a little tricky. You need a TCP Socket server and an HTTP proxy. Fortunately, there are node modules that will help us with building our own Web Sockets. \n",
    "\n",
    "Let's create an application for online chatting using node.js and web sockets.\n",
    " \n",
    "First, make sure you install the `ws` (websocket) module:"
   ]
  },
  {
   "cell_type": "raw",
   "metadata": {},
   "source": [
    ">npm install ws"
   ]
  },
  {
   "cell_type": "markdown",
   "metadata": {},
   "source": [
    "Create a file and name it for instance `ws.js`.  This is the file where we will place our web socket server, initially with the following content."
   ]
  },
  {
   "cell_type": "code",
   "execution_count": null,
   "metadata": {
    "collapsed": true
   },
   "outputs": [],
   "source": [
    "var WebSocketServer = require(\"ws\").Server;\n",
    "var wss = new WebSocketServer({ port: 3000 });\n",
    "\n",
    "wss.on(\"connection\", function(ws) {\n",
    "\n",
    "    ws.send(\"Welcome to cyber chat\");\n",
    "\n",
    "});"
   ]
  },
  {
   "cell_type": "markdown",
   "metadata": {},
   "source": [
    "In the first line (To activate line numbers, click on the code snippet, press Escape key and then press the L key)\n",
    ", we create a a Web Socket Variable and this is going to be a constructor that we get from the `ws` module. In line 2 we simply instantiate the `WebSocketServer` class in port 3000. We will be able to connect to it with the `WS://` protocol as opposed to `HTTP://` protocol we are used to. Finally, in line 4, we set up a listener for new connections, `wss.on` connection will fire this callback function when we have a new socket connected. And that individual Web Socket will be passed to this function as an argument `ws`. This means that we have one client connection and every client that connects is going to cause this callback function to fire and then we can edit their individual connection using this `ws` variable.\n",
    "\n",
    "Next, we need to create an HTML file, `index.html` which we will use for our chat application.  From this HTML file, we will add the JavaScript client-side with the clients side connection to our Socket Server.  Notice that this file contain a div that will hold messages on line 11, as well as a form for adding new messages on line 12. Whenever we input a new message we will input it into the input field and clicking enter will actually collect our new message on our client JavaScript. So on line 16, we are importing our client side JavaScript from a file called `ws-client`. "
   ]
  },
  {
   "cell_type": "code",
   "execution_count": null,
   "metadata": {
    "collapsed": true
   },
   "outputs": [],
   "source": [
    "<!DOCTYPE html>\n",
    "<html>\n",
    "<head>\n",
    "    <meta name=\"viewport\" content=\"minimum-scale=1.0, width=device-width, maximum-scale=1.0, user-scalable=no\"/>\n",
    "    <meta charset=\"utf-8\">\n",
    "    <title>Websocket</title>\n",
    "    <link rel=\"stylesheet\" href=\"style.css\"/>\n",
    "</head>\n",
    "<body>\n",
    "<h1>Websocket</h1>\n",
    "<div class=\"messages\"></div>\n",
    "<form action=\"javascript:void(0)\">\n",
    "    <label for=\"message\">&gt;</label>\n",
    "    <input type=\"text\" id=\"message\" required autofocus />\n",
    "</form>\n",
    "<script src=\"ws-client.js\"></script>\n",
    "</body>\n",
    "</html>"
   ]
  },
  {
   "cell_type": "markdown",
   "metadata": {},
   "source": [
    "we also need a CSS file `style.css`."
   ]
  },
  {
   "cell_type": "code",
   "execution_count": null,
   "metadata": {
    "collapsed": true
   },
   "outputs": [],
   "source": [
    "body {\n",
    "    background-color: black;\n",
    "    color: #0F0;\n",
    "    font-family: verdana;\n",
    "}\n",
    "\n",
    "body input,\n",
    "body label {\n",
    "    display: block;\n",
    "}\n",
    "\n",
    "h1 {\n",
    "    text-align: center;\n",
    "}\n",
    "\n",
    "\n",
    "input {\n",
    "    outline: none;\n",
    "    border: none;\n",
    "    background-color: black;\n",
    "    color: #0F0;\n",
    "    padding: 1em .5em;\n",
    "    display: block;\n",
    "    font-size: 1.5em;\n",
    "    -webkit-box-flex: 1;\n",
    "    -webkit-flex-grow: 1;\n",
    "    -ms-flex-positive: 1;\n",
    "    flex-grow: 1;\n",
    "}\n",
    "\n",
    "label {\n",
    "    display: block;\n",
    "    padding: 1em .5em;\n",
    "    font-size: 1.5em;\n",
    "}\n",
    "\n",
    "div.messages {\n",
    "    margin-left: 1em;\n",
    "}\n",
    "\n",
    "form {\n",
    "    display: -webkit-box;\n",
    "    display: -webkit-flex;\n",
    "    display: -ms-flexbox;\n",
    "    display: flex;\n",
    "}\n"
   ]
  },
  {
   "cell_type": "markdown",
   "metadata": {
    "collapsed": true
   },
   "source": [
    "Next, we will need to program our web socket client. This is the file that's going to run on the browser, and whenever a user enters a new message, this document forms on submit event handler fires and we will gather that message from the input (line 15-19). We also have a function for setting the title that will actually set the title of the heading (line 4), that is located on our HTML page, and then we have a function for printing the message (line 25-28). Every time we receive a message (line 11-13), we can use the print message function and this will create a new paragraph, set the text of the paragraph to our message, and add our message to the document. \n",
    "\n",
    "We also create a Web Socket instance using the WebSocket constructor (line 1).  Since the server is running at ws, localhost port 3000, we pass that parameter to the WebSocket constructor. We also use this `ws`  to wire up event handlers (lines, 3, 7 and 11).\n",
    "\n",
    "We want to be able to send and broadcast chat messages to every connected socket. So, in line 15-19, whenever a user enters a new message, the document form on summit handler will fire, and this is where we can actually collect the new message from a user."
   ]
  },
  {
   "cell_type": "code",
   "execution_count": null,
   "metadata": {
    "collapsed": true
   },
   "outputs": [],
   "source": [
    "var ws = new WebSocket(\"ws://localhost:3000\");\n",
    "\n",
    "ws.onopen = function() {\n",
    "    setTitle(\"Connected to Cyber Chat\");\n",
    "};\n",
    "\n",
    "ws.onclose = function() {\n",
    "    setTitle(\"DISCONNECTED\");\n",
    "};\n",
    "\n",
    "ws.onmessage = function(payload) {\n",
    "    printMessage(payload.data);\n",
    "};\n",
    "\n",
    "document.forms[0].onsubmit = function () {\n",
    "    var input = document.getElementById('message');\n",
    "    ws.send(input.value);\n",
    "    input.value = '';\n",
    "};\n",
    "\n",
    "function setTitle(title) {\n",
    "    document.querySelector('h1').innerHTML = title;\n",
    "}\n",
    "\n",
    "function printMessage(message) {\n",
    "    var p = document.createElement('p');\n",
    "    p.innerText = message;\n",
    "    document.querySelector('div.messages').appendChild(p);\n",
    "}"
   ]
  },
  {
   "cell_type": "markdown",
   "metadata": {},
   "source": [
    "We want to be able to send and broadcast chat messages to every connected socket. So, if I enter a new message into the browser page, what I need to do is send this message back to the socket server. So, I'm going to use my ws instance, to send the `input.value` back to the socket server.\n",
    "\n",
    "You then will need to modify your socket server `ws.js` so it can react properly to incoming messages and broadcast them to all the connected clients.\n",
    "\n",
    "Inside the on connection callback function of your socket server `ws.js`, add the following message listener:"
   ]
  },
  {
   "cell_type": "code",
   "execution_count": null,
   "metadata": {
    "collapsed": true
   },
   "outputs": [],
   "source": [
    "var WebSocketServer = require(\"ws\").Server;\n",
    "var wss = new WebSocketServer({ port: 3000 });\n",
    "\n",
    "wss.on(\"connection\", function(ws) {\n",
    "\n",
    "    ws.on(\"message\", function(message) {\n",
    "\n",
    "        if (message === 'exit') {\n",
    "            ws.close();\n",
    "        } else {\n",
    "\n",
    "            wss.clients.forEach(function(client) {\n",
    "                client.send(message);\n",
    "            });\n",
    "\n",
    "        }\n",
    "\n",
    "    });\n",
    "\n",
    "    ws.send(\"Welcome to cyber chat\");\n",
    "\n",
    "});"
   ]
  },
  {
   "cell_type": "markdown",
   "metadata": {},
   "source": [
    "What we want to listen for, are any messages that are sent from the browser to the socket server. So, ws.on message will cause this event handler to be fired. The message that is passed from the client to the server will be added as an argument to this event handler.\n",
    "\n",
    "We also added functionality to exit the online chat application. So if the message received in the server from a client is equal to 'exit'.  I can disconnect this socket by calling `ws.close()`. This leaves my socket server running, but it closes this client's connection. Otherwise, if the client has typed anything else, we want to broadcast that to all of the clients. \n",
    "\n",
    "Because we are using a javascript array to store all the socket clients, I can use the `forEach` function to cycle through all of them. The `forEach` function takes in a callback that will be invoked once for every one of the clients that are in that array.  So, now we have a loop, looping through all of the clients, and broadcasting the chat message back with a `client.send()`. This is how we can send messages back to the clients. \n",
    "\n",
    "Finally, we are ready to test our application. Run your `ws.js` web socket server using `node.js`. Then open the the `index.html` file in 2 different browsers to simulate 2 different users and make sure your application works.  "
   ]
  },
  {
   "cell_type": "markdown",
   "metadata": {},
   "source": [
    " -----------------------------------------------------"
   ]
  },
  {
   "cell_type": "markdown",
   "metadata": {},
   "source": [
    "## Exercises\n",
    "\n",
    "1. Tweak the Web server you created at the beginning of the practical a bit.  We want to only send our response `HTML hello world` content when the request method is GET and when the path the client is trying to access is `/main`. In any other case, we want to simply respond with a 404 response.\n",
    "\n",
    "2. Study the following piece of code until you understand what it is doing. Explain to me, your lecturer, what the script is doing. Assume the file `inventory` is just a JSON file containing inventory details about the products of a company."
   ]
  },
  {
   "cell_type": "code",
   "execution_count": null,
   "metadata": {
    "collapsed": true
   },
   "outputs": [],
   "source": [
    "var http = require(\"http\");\n",
    "\n",
    "var data = require(\"./inventory\");\n",
    "\n",
    "http.createServer(function(req, res) {\n",
    "\n",
    "    if (req.url === \"/\") {\n",
    "        res.writeHead(200, {\"Content-Type\": \"text/json\"});\n",
    "        res.end(JSON.stringify(data));\n",
    "    } else if (req.url === \"/instock\") {\n",
    "        listInStock(res);\n",
    "    } else if (req.url === \"/onorder\") {\n",
    "        listOnBackOrder(res);\n",
    "    } else {\n",
    "        res.writeHead(404, {\"Content-Type\": \"text/plain\"});\n",
    "        res.end(\"Whoops... Data not found\");\n",
    "    }\n",
    "\n",
    "\n",
    "\n",
    "}).listen(3000);\n",
    "\n",
    "\n",
    "\n",
    "function listInStock(res) {\n",
    "\n",
    "    var inStock = data.filter(function(item) {\n",
    "        return item.avail === \"In stock\";\n",
    "    });\n",
    "\n",
    "    res.end(JSON.stringify(inStock));\n",
    "\n",
    "}\n",
    "\n",
    "function listOnBackOrder(res) {\n",
    "\n",
    "    var onOrder = data.filter(function(item) {\n",
    "        return item.avail === \"On back order\";\n",
    "    });\n",
    "\n",
    "    res.end(JSON.stringify(onOrder));\n",
    "\n",
    "}"
   ]
  }
 ],
 "metadata": {
  "anaconda-cloud": {},
  "kernelspec": {
   "display_name": "Javascript (Node.js)",
   "language": "javascript",
   "name": "javascript"
  },
  "language_info": {
   "file_extension": ".js",
   "mimetype": "application/javascript",
   "name": "javascript",
   "version": "6.10.1"
  }
 },
 "nbformat": 4,
 "nbformat_minor": 0
}
