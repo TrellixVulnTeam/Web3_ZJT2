{
 "cells": [
  {
   "cell_type": "markdown",
   "metadata": {},
   "source": [
    "# node.js 1"
   ]
  },
  {
   "cell_type": "markdown",
   "metadata": {},
   "source": [
    "## Introduction"
   ]
  },
  {
   "cell_type": "markdown",
   "metadata": {},
   "source": [
    "Node.js is a platform built on Chrome's V8 JavaScript runtime for easily building fast and scalable network applications. Node.js uses an event-driven, non-blocking I/O model that makes it lightweight and efficient for data-intensive real-time applications that run across distributed devices.\n",
    "\n",
    "When writing a node.js application the source code written in the source files is simply javascript. The Node.js interpreter is used to interpret and execute your javascript code at runtime. In that sense, it acts as a just in time compiler (JIT).\n",
    "\n",
    "To install node.js in your own computer, simply go to https://nodejs.org/en/ and download the latest binaries. The classroom computers are already equipped with node.js so you don't need to do anything when working with a classroom computer."
   ]
  },
  {
   "cell_type": "markdown",
   "metadata": {},
   "source": [
    "## The Node.js terminal"
   ]
  },
  {
   "cell_type": "markdown",
   "metadata": {},
   "source": [
    "REPL stands for Read Eval Print Loop and it represents a computer environment like a Windows console or Unix/Linux shell where in an interactive mode the user enters a command in the terminal and the System computes a response that it then sends as an output to the terminal. Node.js or Node comes bundled with a REPL environment. It performs the following tasks −\n",
    "\n",
    "- Read − Reads user's input, parses the input into a JavaScript data-structure, and stores in memory.\n",
    "\n",
    "- Eval − Evaluates the data structure.\n",
    "\n",
    "- Print − Prints the result.\n",
    "\n",
    "- Loop − Loops the above command until the user presses ctrl-c twice.\n",
    "\n",
    "you can start the REPL by writing in your command line:"
   ]
  },
  {
   "cell_type": "raw",
   "metadata": {},
   "source": [
    "> node"
   ]
  },
  {
   "cell_type": "markdown",
   "metadata": {},
   "source": [
    "try the following expressions in the REPL console to get a feeling of how it works:"
   ]
  },
  {
   "cell_type": "raw",
   "metadata": {},
   "source": [
    "> 1 +2\n",
    "> console.log(\"hi\")\n",
    "> for (var i=0;i<10;i++){\n",
    "console.log(i);\n",
    "}\n",
    "> x = 5\n",
    "> _ //you can use the underscore (_) variable to get the last result"
   ]
  },
  {
   "cell_type": "markdown",
   "metadata": {},
   "source": [
    "To exit the REPL Council, press Ctrl + C twice."
   ]
  },
  {
   "cell_type": "markdown",
   "metadata": {},
   "source": [
    "## Node core\n",
    "\n",
    "If you're used to using JavaScript in the browser, then you're probably pretty used to the window object being a global object. In node.js, the global object is `global`. Because the `global` name space is assumed, we do not have to always include it. In the following url https://nodejs.org/api/globals.html, you can check out the objects that are available to us globally on the global namespace of `node.js`. \n",
    "\n",
    "Available to us globally, we have a `console` object that will allow us to log messages to the console."
   ]
  },
  {
   "cell_type": "code",
   "execution_count": 1,
   "metadata": {
    "collapsed": false
   },
   "outputs": [
    {
     "name": "stdout",
     "output_type": "stream",
     "text": [
      "Hi there!\n"
     ]
    },
    {
     "data": {
      "text/plain": [
       "undefined"
      ]
     },
     "execution_count": 1,
     "metadata": {},
     "output_type": "execute_result"
    }
   ],
   "source": [
    "console.log(\"Hi there!\");\n",
    "//global.console.log(\"Hi there!\");//equivalent"
   ]
  },
  {
   "cell_type": "markdown",
   "metadata": {},
   "source": [
    "`Node.js` works a little bit different than the browser when it comes to storing variables. Every `node.js` file that we create is it's own module. Any variable that we create in a `node.js` file, is scoped only to that module. That means that our variables are not added to the global object the way that they are in the browser.\n",
    "\n",
    "In node.js usually you have available to you most functionality that you are used to in JavaScript:"
   ]
  },
  {
   "cell_type": "code",
   "execution_count": 2,
   "metadata": {
    "collapsed": false
   },
   "outputs": [
    {
     "data": {
      "text/plain": [
       "'Polytechnic'"
      ]
     },
     "execution_count": 2,
     "metadata": {},
     "output_type": "execute_result"
    }
   ],
   "source": [
    "\"Otago Polytechnic\".slice(6,17);"
   ]
  },
  {
   "cell_type": "markdown",
   "metadata": {},
   "source": [
    "### Template strings\n",
    "\n",
    "Node.js implements the ECMAScript (ES) v6 specification, so we can use template strings with backtick characters which can be very convenient."
   ]
  },
  {
   "cell_type": "code",
   "execution_count": 13,
   "metadata": {
    "collapsed": false
   },
   "outputs": [
    {
     "name": "stdout",
     "output_type": "stream",
     "text": [
      "an easy way of injecting variables within strings: hello world\n"
     ]
    },
    {
     "data": {
      "text/plain": [
       "undefined"
      ]
     },
     "execution_count": 13,
     "metadata": {},
     "output_type": "execute_result"
    }
   ],
   "source": [
    "var hello = \"hello world\";\n",
    "console.log(`an easy way of injecting variables within strings: ${hello}`);"
   ]
  },
  {
   "cell_type": "markdown",
   "metadata": {},
   "source": [
    "There are many other things that are available to us globally in `node.js`. One of the things that is very convenient to use is a reference to the current directory that we're in and a reference to the current node module and location that we're using. In order for the following commands to work, you will need to create your own JavaScript file (name it `test.js`) and include the following code in it:"
   ]
  },
  {
   "cell_type": "code",
   "execution_count": null,
   "metadata": {
    "collapsed": true
   },
   "outputs": [],
   "source": [
    "console.log(\"the current folder is: \" + __dirname);\n",
    "console.log(\"\\n\\n\");\n",
    "console.log(\"the code being interpreted is in file: \" + __filename);"
   ]
  },
  {
   "cell_type": "markdown",
   "metadata": {},
   "source": [
    " run the file `test.js` with node.js using the following command in your command prompt."
   ]
  },
  {
   "cell_type": "raw",
   "metadata": {},
   "source": [
    ">node test.js"
   ]
  },
  {
   "cell_type": "markdown",
   "metadata": {},
   "source": [
    "### Importing modules\n",
    "\n",
    "Another feature available to us globally, is the `require` function. The `require` function, is what we're going to use to import `node.js` modules into our scripts. Let's require the `path` module. The `path` module, is a module available to you with your installation of `node.js`. It gives us some tools for working with paths. Again, you will need to execute this code from its own file using the `node.js` interpreter."
   ]
  },
  {
   "cell_type": "code",
   "execution_count": null,
   "metadata": {
    "collapsed": true
   },
   "outputs": [],
   "source": [
    "var path = require(\"path\");\n",
    "console.log(`this file has extension ${path.extname(__filename)}\n",
    "its name is ${path.basename(__filename)} \n",
    "and it is located in folder ${path.dirname(__filename)}`);"
   ]
  },
  {
   "cell_type": "markdown",
   "metadata": {},
   "source": [
    "### node.js core modules\n",
    "\n",
    "Many of the modules we will use with `node.js` are hosted in the NPM registry and need to be installed first. There are however a set of modules that you do not have to install with NPM. These modules were installed locally with your installation of `node.js` by default. We refer to these modules as core modules. \n",
    "\n",
    "The `path` module is one of the core modules. Another one is the utilities module wwhich contains lots of useful methods, among them, a log method similar to `console.log` but which also includes a date by default."
   ]
  },
  {
   "cell_type": "code",
   "execution_count": 39,
   "metadata": {
    "collapsed": false
   },
   "outputs": [
    {
     "name": "stdout",
     "output_type": "stream",
     "text": [
      "19 Jan 13:37:35 - true\n",
      "19 Jan 13:37:35 - false\n"
     ]
    },
    {
     "data": {
      "text/plain": [
       "undefined"
      ]
     },
     "execution_count": 39,
     "metadata": {},
     "output_type": "execute_result"
    }
   ],
   "source": [
    "var util = require('util');\n",
    "var ar = [1,2,3,4,5]\n",
    "util.log(util.isArray(ar));\n",
    "util.log(util.isDate(ar));"
   ]
  },
  {
   "cell_type": "markdown",
   "metadata": {},
   "source": [
    "the `v8` module can be used to get current details about memory usage."
   ]
  },
  {
   "cell_type": "code",
   "execution_count": 44,
   "metadata": {
    "collapsed": false
   },
   "outputs": [
    {
     "name": "stdout",
     "output_type": "stream",
     "text": [
      "19 Jan 13:40:24 - { total_heap_size: 10522624,\n",
      "  total_heap_size_executable: 6291456,\n",
      "  total_physical_size: 10522624,\n",
      "  total_available_size: 1487362048,\n",
      "  used_heap_size: 6847632,\n",
      "  heap_size_limit: 1501560832 }\n",
      "19 Jan 13:40:24 - [ { space_name: 'new_space',\n",
      "    space_size: 1048576,\n",
      "    space_used_size: 508760,\n",
      "    space_available_size: 522920,\n",
      "    physical_space_size: 1048576 },\n",
      "  { space_name: 'old_space',\n",
      "    space_size: 5197824,\n",
      "    space_used_size: 4786504,\n",
      "    space_available_size: 136,\n",
      "    physical_space_size: 5197824 },\n",
      "  { space_name: 'code_space',\n",
      "    space_size: 3145728,\n",
      "    space_used_size: 1313632,\n",
      "    space_available_size: 128,\n",
      "    physical_space_size: 3145728 },\n",
      "  { space_name: 'map_space',\n",
      "    space_size: 1130496,\n",
      "    space_used_size: 250888,\n",
      "    space_available_size: 0,\n",
      "    physical_space_size: 1130496 },\n",
      "  { space_name: 'large_object_space',\n",
      "    space_size: 0,\n",
      "    space_used_size: 0,\n",
      "    space_available_size: 1486827008,\n",
      "    physical_space_size: 0 } ]\n"
     ]
    },
    {
     "data": {
      "text/plain": [
       "undefined"
      ]
     },
     "execution_count": 44,
     "metadata": {},
     "output_type": "execute_result"
    }
   ],
   "source": [
    "var util = require('util');\n",
    "var v8 = require('v8');\n",
    "util.log(v8.getHeapStatistics());\n",
    "util.log(v8.getHeapSpaceStatistics());"
   ]
  },
  {
   "cell_type": "markdown",
   "metadata": {},
   "source": [
    "### Exporting custom modules\n",
    "\n",
    "In `Node.js`, every Javascript file is a module. We've been loading external modules with the `require` function. The `require` function is part of the common JS module pattern, but it only represents half of the pattern, the half that loads the modules. The other half of the pattern is `module.exports`, or the mechanism that we can use to make our modules consumable.\n",
    "\n",
    "create a file and name it *myModule.js* with the following content."
   ]
  },
  {
   "cell_type": "code",
   "execution_count": null,
   "metadata": {
    "collapsed": true
   },
   "outputs": [],
   "source": [
    "var Person = function(name) {\n",
    "    this.name = name;\n",
    "    this.speak = function(){\n",
    "    console.log(`Hi there!, I'm ${this.name}`);\n",
    "    }\n",
    "};\n",
    "\n",
    "module.exports = Person;"
   ]
  },
  {
   "cell_type": "markdown",
   "metadata": {},
   "source": [
    "then create another file which imports the constructor *Person* from the module *myModule*, in the following manner:"
   ]
  },
  {
   "cell_type": "code",
   "execution_count": 46,
   "metadata": {
    "collapsed": false
   },
   "outputs": [
    {
     "name": "stdout",
     "output_type": "stream",
     "text": [
      "Hi there!, I'm Peter\n"
     ]
    },
    {
     "data": {
      "text/plain": [
       "undefined"
      ]
     },
     "execution_count": 46,
     "metadata": {},
     "output_type": "execute_result"
    }
   ],
   "source": [
    "var Person = require('./myModule.js');\n",
    "\n",
    "somePerson = new Person(\"Peter\");\n",
    "somePerson.speak();"
   ]
  },
  {
   "cell_type": "markdown",
   "metadata": {},
   "source": [
    "### The process object\n",
    "\n",
    "One important object that is available to us globally is the `process` object. It can be accessed from anywhere, and it contains functionality that allows us to interact with information about the current process instance. We can use the `process` object to get environment information, read environment variables, communicate with the terminal, or parent processes, through standard input and standard output. We can even exit the current process. This object essentially gives us a way to work with the current process instance.\n",
    "\n",
    "One of the the things that we can do with the process object is to collect all the information from the terminal, or command prompt, when the application starts. All of this information will be saved in a variable called process.argv which stands for the argument variables used to start the process.\n",
    "\n",
    "The process.argv variable is an array. The first element of the array is a path to the `node.js` engine, the second element is the path to the current script. The next elements are flags we can pass to our application. So if we start a node.js application in the following manner:"
   ]
  },
  {
   "cell_type": "raw",
   "metadata": {},
   "source": [
    "> node app.js --ss"
   ]
  },
  {
   "cell_type": "code",
   "execution_count": null,
   "metadata": {
    "collapsed": true
   },
   "outputs": [],
   "source": [
    "process.argv[2] //should equal --ss. Convince yourself this is the case using console.log"
   ]
  },
  {
   "cell_type": "markdown",
   "metadata": {},
   "source": [
    "### Standard input and standard output\n",
    "\n",
    "Another feature of the process object is standard input and standard output. These two objects offer us a way to communicate with a process while it is running. For now, we will use these objects to read and write data to the Terminal. but we could also use them to communicate with a child process for instance. Study the following code, run it in your terminal and try to understand what it is doing. Notice the usage of an event listener which provides asynchronicity. We'll talk more later about event emitters and even listeners."
   ]
  },
  {
   "cell_type": "code",
   "execution_count": null,
   "metadata": {
    "collapsed": true
   },
   "outputs": [],
   "source": [
    "process.stdout.write(\"what is your favorite movie?\");\n",
    "\n",
    "process.stdin.on('data', function(data) {\n",
    "    answer = data.toString().trim();\n",
    "    process.stdout.write(`${answer} is a great movie!!`);\n",
    "    process.exit();\n",
    "});"
   ]
  },
  {
   "cell_type": "markdown",
   "metadata": {},
   "source": [
    "The readline module can come in handy for asking questions to a user through the terminal.  It is a wrapper around the standard input and standard output objects that allow us to easily control prompting a user with questions and saving those answers. The following script is a bit sophisticated, try to just get a general idea of what it is accomplishing."
   ]
  },
  {
   "cell_type": "code",
   "execution_count": null,
   "metadata": {
    "collapsed": true
   },
   "outputs": [],
   "source": [
    "var readline = require('readline');\n",
    "var rl = readline.createInterface(process.stdin, process.stdout);\n",
    "\n",
    "var realPerson = {\n",
    "    name: '',\n",
    "    sayings: []\n",
    "};\n",
    "\n",
    "\n",
    "rl.question(\"what is the name of your favorite programmer? \", function(answer) {\n",
    "\n",
    "    realPerson.name = answer;\n",
    "\n",
    "    rl.setPrompt(`What would ${realPerson.name} say? `);\n",
    "\n",
    "    rl.prompt();\n",
    "\n",
    "    rl.on('line', function(saying) {\n",
    "\n",
    "        realPerson.sayings.push(saying.trim());\n",
    "\n",
    "        if (saying.toLowerCase().trim() === 'exit') {\n",
    "            rl.close();\n",
    "        } else {\n",
    "            rl.setPrompt(`What else would ${realPerson.name} say? ('exit' to leave) `);\n",
    "            rl.prompt();\n",
    "        }\n",
    "\n",
    "    });\n",
    "\n",
    "});\n",
    "\n",
    "\n",
    "rl.on('close', function() {\n",
    "    console.log(\"%s is a programmer that says %j\", realPerson.name, realPerson.sayings);\n",
    "    process.exit();\n",
    "});"
   ]
  },
  {
   "cell_type": "markdown",
   "metadata": {},
   "source": [
    "### Global timing functions\n",
    "\n",
    "Another way we can work with `Node.js` asynchronously is through using the timing functions. The timing functions `setTimeout`, `clearTimeout`, `setInterval`, and `clearInterval` work the same way they do in the browser and are available to you globally. Copy the following code into its own script file and execute it from the command prompt. Make sure you understand what the code is doing before you proceed."
   ]
  },
  {
   "cell_type": "code",
   "execution_count": null,
   "metadata": {
    "collapsed": true
   },
   "outputs": [],
   "source": [
    "var waitTime = 3000;\n",
    "var currentTime = 0;\n",
    "var waitInterval = 10;\n",
    "var percentWaited = 0;\n",
    "\n",
    "function writeWaitingPercent(p) {\n",
    "    process.stdout.clearLine();\n",
    "    process.stdout.cursorTo(0);\n",
    "    process.stdout.write(`waiting ... ${p}%`);\n",
    "}\n",
    "\n",
    "var interval = setInterval(function() {\n",
    "    currentTime += waitInterval;\n",
    "    percentWaited = Math.floor((currentTime/waitTime) * 100);\n",
    "    writeWaitingPercent(percentWaited);\n",
    "}, waitInterval);\n",
    "\n",
    "setTimeout(function() {\n",
    "    clearInterval(interval);\n",
    "    writeWaitingPercent(100);\n",
    "    console.log(\"\\n\\n done \\n\\n\");\n",
    "}, waitTime);\n",
    "\n",
    "writeWaitingPercent(percentWaited);"
   ]
  },
  {
   "cell_type": "markdown",
   "metadata": {},
   "source": [
    "## Node package manager (NPM)"
   ]
  },
  {
   "cell_type": "markdown",
   "metadata": {},
   "source": [
    "The `Node.js` core is relatively small. It only contains essential modules. There is however a huge ecōsystem of modules that provide high-level language functionality.\n",
    "\n",
    "Your `Node.js` installation came with a very powerful tool. The Node Package Manager (NPM). This is the tool that allows us to install Node packages that were created by the open source community. \n",
    "\n",
    "With your Command prompt window open you can run `npm -v`. This will tell you the version of npm installed in your system.\n",
    "\n",
    "If you open up your browser window and navigate to https://www.npmjs.com/ you will arrive at the Node Package Manager repository. This is where the Developer community publishes all of those open-source libraries and frameworks that the rest of the community can use. On this home page you will see a \"find packages\" input text field. This is bound to a search function for the npm registry. Go ahead and look for a certain library, like for instance *jQuery* or *express*, an important framework for creating Web servers we will learn about in future sessions.\n",
    "\n",
    "![](./images/npm.png)\n",
    "\n",
    "Next, navigate to your local computer command prompt to learn how to install packages. To install a package all we have to type is npm install and then the package name. Let's install the important express framework in your current folder."
   ]
  },
  {
   "cell_type": "raw",
   "metadata": {},
   "source": [
    ">npm install express"
   ]
  },
  {
   "cell_type": "markdown",
   "metadata": {},
   "source": [
    "By default, NPM installs any dependency in the current folder. NPM installs local modules in the `node_modules` directory lying in the folder where NPM was run. Locally deployed packages are accessible via the `require()` method. For example, when we installed express module, it created a `node_modules` directory in the current directory where it installed the `express` module framework. Use the file Explorer of your operating system to convince yourself that NPM has created  the `node_modules` directory and how it has install the `express` package as well as a huge number of dependencies automatically.\n",
    "\n",
    "If you want to see what you have installed you can run:"
   ]
  },
  {
   "cell_type": "raw",
   "metadata": {},
   "source": [
    ">npm ls"
   ]
  },
  {
   "cell_type": "markdown",
   "metadata": {},
   "source": [
    "This will show you what packages you have installed locally and where they are located. "
   ]
  },
  {
   "cell_type": "markdown",
   "metadata": {},
   "source": [
    "now you could use this module in your local folder JavaScript files with the following expression."
   ]
  },
  {
   "cell_type": "code",
   "execution_count": 9,
   "metadata": {
    "collapsed": false
   },
   "outputs": [
    {
     "data": {
      "text/plain": [
       "undefined"
      ]
     },
     "execution_count": 9,
     "metadata": {},
     "output_type": "execute_result"
    }
   ],
   "source": [
    "var express = require('express');"
   ]
  },
  {
   "cell_type": "markdown",
   "metadata": {},
   "source": [
    "updating a package is trivial:"
   ]
  },
  {
   "cell_type": "raw",
   "metadata": {},
   "source": [
    ">npm update express"
   ]
  },
  {
   "cell_type": "markdown",
   "metadata": {},
   "source": [
    "you can remove a local package by typing."
   ]
  },
  {
   "cell_type": "raw",
   "metadata": {},
   "source": [
    ">npm uninstall express"
   ]
  },
  {
   "cell_type": "markdown",
   "metadata": {},
   "source": [
    "Most npm packages will be installed locally. This is because your application itself will be dependent upon these packages, and they will need to accompany your app in runtime. JavaScript is no longer limited to the browser so the npm registry contains many applications that you can install globally. So, from the npm registry, `node-dev` is one of the packages that we are going to be installing globally during this lesson. `Node-dev` is a tool that we can use while developing Node apps. We can run our code with `node-dev`, and it will automatically restart our app if we make any changes to the source code.\n",
    "\n",
    "If I want to do a global install, I'm going to need to run the Command Prompt as administrator. With administrative privileges, you can do a global install using the `-g` flag to install modules globally, making them accessible from any folder in your system."
   ]
  },
  {
   "cell_type": "raw",
   "metadata": {},
   "source": [
    ">npm install node-dev -g"
   ]
  },
  {
   "cell_type": "markdown",
   "metadata": {},
   "source": [
    "### Creating a module - The package.json file"
   ]
  },
  {
   "cell_type": "markdown",
   "metadata": {},
   "source": [
    "Creating a module requires a `package.json` file to be generated. `package.json` is present in the root directory of any Node application/module and is used to define the properties of a package. Npm install the `express` module again and open the `package.json` of the `express` package present in node_modules/express/ in a text editor."
   ]
  },
  {
   "cell_type": "code",
   "execution_count": null,
   "metadata": {
    "collapsed": true
   },
   "outputs": [],
   "source": [
    "{\n",
    "  \"_args\": [\n",
    "    [\n",
    "      {\n",
    "        \"raw\": \"express\",\n",
    "        \"scope\": null,\n",
    "        \"escapedName\": \"express\",\n",
    "        \"name\": \"express\",\n",
    "        \"rawSpec\": \"\",\n",
    "        \"spec\": \"latest\",\n",
    "        \"type\": \"tag\"\n",
    "      },\n",
    "      \"C:\\\\Users\\\\drozado\\\\Dropbox\\\\Work\\\\Teaching\\\\IN712 - Web Programming 3\\\\Teaching Sessions\\\\13nodejs 1\\\\demos\"\n",
    "    ]\n",
    "  ],\n",
    "  \"_from\": \"express@latest\",\n",
    "  \"_id\": \"express@4.14.0\",\n",
    "  \"_inCache\": true,\n",
    "  \"_location\": \"/express\",\n",
    "  \"_npmOperationalInternal\": {\n",
    "    \"host\": \"packages-12-west.internal.npmjs.com\",\n",
    "    \"tmp\": \"tmp/express-4.14.0.tgz_1466095407850_0.17484632693231106\"\n",
    "  },\n",
    "  \"_npmUser\": {\n",
    "    \"name\": \"dougwilson\",\n",
    "    \"email\": \"doug@somethingdoug.com\"\n",
    "  },\n",
    "  \"_npmVersion\": \"1.4.28\",\n",
    "  \"_phantomChildren\": {},\n",
    "  \"_requested\": {\n",
    "    \"raw\": \"express\",\n",
    "    \"scope\": null,\n",
    "    \"escapedName\": \"express\",\n",
    "    \"name\": \"express\",\n",
    "    \"rawSpec\": \"\",\n",
    "    \"spec\": \"latest\",\n",
    "    \"type\": \"tag\"\n",
    "  },\n",
    "  \"_requiredBy\": [\n",
    "    \"#USER\"\n",
    "  ],\n",
    "  \"_resolved\": \"https://registry.npmjs.org/express/-/express-4.14.0.tgz\",\n",
    "  \"_shasum\": \"c1ee3f42cdc891fb3dc650a8922d51ec847d0d66\",\n",
    "  \"_shrinkwrap\": null,\n",
    "  \"_spec\": \"express\",\n",
    "  \"_where\": \"C:\\\\Users\\\\drozado\\\\Dropbox\\\\Work\\\\Teaching\\\\IN712 - Web Programming 3\\\\Teaching Sessions\\\\13nodejs 1\\\\demos\",\n",
    "  \"author\": {\n",
    "    \"name\": \"TJ Holowaychuk\",\n",
    "    \"email\": \"tj@vision-media.ca\"\n",
    "  },\n",
    "  \"bugs\": {\n",
    "    \"url\": \"https://github.com/expressjs/express/issues\"\n",
    "  },\n",
    "  \"contributors\": [\n",
    "    {\n",
    "      \"name\": \"Aaron Heckmann\",\n",
    "      \"email\": \"aaron.heckmann+github@gmail.com\"\n",
    "    },\n",
    "    {\n",
    "      \"name\": \"Ciaran Jessup\",\n",
    "      \"email\": \"ciaranj@gmail.com\"\n",
    "    },\n",
    "    {\n",
    "      \"name\": \"Douglas Christopher Wilson\",\n",
    "      \"email\": \"doug@somethingdoug.com\"\n",
    "    },\n",
    "    {\n",
    "      \"name\": \"Guillermo Rauch\",\n",
    "      \"email\": \"rauchg@gmail.com\"\n",
    "    },\n",
    "    {\n",
    "      \"name\": \"Jonathan Ong\",\n",
    "      \"email\": \"me@jongleberry.com\"\n",
    "    },\n",
    "    {\n",
    "      \"name\": \"Roman Shtylman\",\n",
    "      \"email\": \"shtylman+expressjs@gmail.com\"\n",
    "    },\n",
    "    {\n",
    "      \"name\": \"Young Jae Sim\",\n",
    "      \"email\": \"hanul@hanul.me\"\n",
    "    }\n",
    "  ],\n",
    "  \"dependencies\": {\n",
    "    \"accepts\": \"~1.3.3\",\n",
    "    \"array-flatten\": \"1.1.1\",\n",
    "    \"content-disposition\": \"0.5.1\",\n",
    "    \"content-type\": \"~1.0.2\",\n",
    "    \"cookie\": \"0.3.1\",\n",
    "    \"cookie-signature\": \"1.0.6\",\n",
    "    \"debug\": \"~2.2.0\",\n",
    "    \"depd\": \"~1.1.0\",\n",
    "    \"encodeurl\": \"~1.0.1\",\n",
    "    \"escape-html\": \"~1.0.3\",\n",
    "    \"etag\": \"~1.7.0\",\n",
    "    \"finalhandler\": \"0.5.0\",\n",
    "    \"fresh\": \"0.3.0\",\n",
    "    \"merge-descriptors\": \"1.0.1\",\n",
    "    \"methods\": \"~1.1.2\",\n",
    "    \"on-finished\": \"~2.3.0\",\n",
    "    \"parseurl\": \"~1.3.1\",\n",
    "    \"path-to-regexp\": \"0.1.7\",\n",
    "    \"proxy-addr\": \"~1.1.2\",\n",
    "    \"qs\": \"6.2.0\",\n",
    "    \"range-parser\": \"~1.2.0\",\n",
    "    \"send\": \"0.14.1\",\n",
    "    \"serve-static\": \"~1.11.1\",\n",
    "    \"type-is\": \"~1.6.13\",\n",
    "    \"utils-merge\": \"1.0.0\",\n",
    "    \"vary\": \"~1.1.0\"\n",
    "  },\n",
    "  \"description\": \"Fast, unopinionated, minimalist web framework\",\n",
    "  \"devDependencies\": {\n",
    "    \"after\": \"0.8.1\",\n",
    "    \"body-parser\": \"~1.15.1\",\n",
    "    \"connect-redis\": \"~2.4.1\",\n",
    "    \"cookie-parser\": \"~1.4.3\",\n",
    "    \"cookie-session\": \"~1.2.0\",\n",
    "    \"ejs\": \"2.4.2\",\n",
    "    \"express-session\": \"~1.13.0\",\n",
    "    \"istanbul\": \"0.4.3\",\n",
    "    \"jade\": \"~1.11.0\",\n",
    "    \"marked\": \"0.3.5\",\n",
    "    \"method-override\": \"~2.3.6\",\n",
    "    \"mocha\": \"2.5.3\",\n",
    "    \"morgan\": \"~1.7.0\",\n",
    "    \"multiparty\": \"~4.1.2\",\n",
    "    \"should\": \"9.0.2\",\n",
    "    \"supertest\": \"1.2.0\",\n",
    "    \"vhost\": \"~3.0.2\"\n",
    "  },\n",
    "  \"directories\": {},\n",
    "  \"dist\": {\n",
    "    \"shasum\": \"c1ee3f42cdc891fb3dc650a8922d51ec847d0d66\",\n",
    "    \"tarball\": \"https://registry.npmjs.org/express/-/express-4.14.0.tgz\"\n",
    "  },\n",
    "  \"engines\": {\n",
    "    \"node\": \">= 0.10.0\"\n",
    "  },\n",
    "  \"files\": [\n",
    "    \"LICENSE\",\n",
    "    \"History.md\",\n",
    "    \"Readme.md\",\n",
    "    \"index.js\",\n",
    "    \"lib/\"\n",
    "  ],\n",
    "  \"gitHead\": \"9375a9afa9d7baa814b454c7a6818a7471aaef00\",\n",
    "  \"homepage\": \"http://expressjs.com/\",\n",
    "  \"keywords\": [\n",
    "    \"express\",\n",
    "    \"framework\",\n",
    "    \"sinatra\",\n",
    "    \"web\",\n",
    "    \"rest\",\n",
    "    \"restful\",\n",
    "    \"router\",\n",
    "    \"app\",\n",
    "    \"api\"\n",
    "  ],\n",
    "  \"license\": \"MIT\",\n",
    "  \"maintainers\": [\n",
    "    {\n",
    "      \"name\": \"dougwilson\",\n",
    "      \"email\": \"doug@somethingdoug.com\"\n",
    "    },\n",
    "    {\n",
    "      \"name\": \"hacksparrow\",\n",
    "      \"email\": \"captain@hacksparrow.com\"\n",
    "    },\n",
    "    {\n",
    "      \"name\": \"jasnell\",\n",
    "      \"email\": \"jasnell@gmail.com\"\n",
    "    },\n",
    "    {\n",
    "      \"name\": \"mikeal\",\n",
    "      \"email\": \"mikeal.rogers@gmail.com\"\n",
    "    }\n",
    "  ],\n",
    "  \"name\": \"express\",\n",
    "  \"optionalDependencies\": {},\n",
    "  \"readme\": \"ERROR: No README data found!\",\n",
    "  \"repository\": {\n",
    "    \"type\": \"git\",\n",
    "    \"url\": \"git+https://github.com/expressjs/express.git\"\n",
    "  },\n",
    "  \"scripts\": {\n",
    "    \"test\": \"mocha --require test/support/env --reporter spec --bail --check-leaks test/ test/acceptance/\",\n",
    "    \"test-ci\": \"istanbul cover node_modules/mocha/bin/_mocha --report lcovonly -- --require test/support/env --reporter spec --check-leaks test/ test/acceptance/\",\n",
    "    \"test-cov\": \"istanbul cover node_modules/mocha/bin/_mocha -- --require test/support/env --reporter dot --check-leaks test/ test/acceptance/\",\n",
    "    \"test-tap\": \"mocha --require test/support/env --reporter tap --check-leaks test/ test/acceptance/\"\n",
    "  },\n",
    "  \"version\": \"4.14.0\"\n",
    "}\n"
   ]
  },
  {
   "cell_type": "markdown",
   "metadata": {},
   "source": [
    "The *package.json* file contains a lot of information about the module:\n",
    "\n",
    "- name of the package\n",
    "- version of the package\n",
    "- description of the package\n",
    "- homepage of the package\n",
    "- author of the package\n",
    "- repository URL of the package\n",
    "- etc\n",
    "\n",
    "Particularly important is the *dependencies* information which contains all the dependencies of this particular module. This makes very easy for `node.js` to properly install a package **and** its dependencies.\n",
    "\n",
    "if we want to create a module in `node.js` we can easily generate a `package.json` file by typing in our command prompt:"
   ]
  },
  {
   "cell_type": "raw",
   "metadata": {},
   "source": [
    ">npm init"
   ]
  },
  {
   "cell_type": "markdown",
   "metadata": {},
   "source": [
    "this will trigger an interactive command line interfacewhich will ask us the essential information to generate a *package.json* file. Go ahead and give it a try."
   ]
  },
  {
   "cell_type": "markdown",
   "metadata": {},
   "source": [
    "### Publishing a module to the NPM repository"
   ]
  },
  {
   "cell_type": "markdown",
   "metadata": {},
   "source": [
    "Once a *package.json* file is generated, you can use the following command to register yourself with NPM repository site using a valid email address."
   ]
  },
  {
   "cell_type": "raw",
   "metadata": {},
   "source": [
    "> npm adduser"
   ]
  },
  {
   "cell_type": "markdown",
   "metadata": {},
   "source": [
    "finally, you can publish your own modules to the NPM repository with the following command:"
   ]
  },
  {
   "cell_type": "raw",
   "metadata": {},
   "source": [
    "> npm publish"
   ]
  },
  {
   "cell_type": "markdown",
   "metadata": {},
   "source": [
    "Note: since you haven't created a functional module yet, I would suggest to not complete the previous step. Just be aware that this functionality exists and is available to you."
   ]
  },
  {
   "cell_type": "markdown",
   "metadata": {},
   "source": [
    "## Callback functions\n",
    "\n",
    "A callback function is a function that gets called at the completion of a given task. `node.js` makes heavy use of callbacks. All the APIs of Node are written in such a way that they support callbacks.\n",
    "\n",
    "A perfect example of callback functions at work is a piece of software that reads a file. Using asynchronous programming through a callback function, the program can start reading the file and return the control to the execution environment immediately so that the next instruction in the program can be executed. Once the reading of the file is completed, the program will call the callback function while passing to it the content of the file as a parameter. So there is no blocking behavior for File input/output operations. This makes `Node.js` highly scalable, as it can process a high number of requests without waiting for any function to return results."
   ]
  },
  {
   "cell_type": "markdown",
   "metadata": {},
   "source": [
    "### Blocking code example\n",
    "\n",
    "Let's read the content of a text file named `input.txt` using synchronous code. Even though node.js is intrinsically asynchronous, every method in the *fs* module is asynchronous by default but there is also a synchronous\n",
    "alternative available which always ends with the suffix *Sync*. "
   ]
  },
  {
   "cell_type": "code",
   "execution_count": 10,
   "metadata": {
    "collapsed": false
   },
   "outputs": [
    {
     "name": "stdout",
     "output_type": "stream",
     "text": [
      "I am the content of file input.txt\n",
      "Last instruction in script\n"
     ]
    },
    {
     "data": {
      "text/plain": [
       "undefined"
      ]
     },
     "execution_count": 10,
     "metadata": {},
     "output_type": "execute_result"
    }
   ],
   "source": [
    "//fs is node.js module for input output operations to the file system\n",
    "var fs = require(\"fs\");\n",
    "\n",
    "//reading the file SYNCHRONOUSLY\n",
    "var data = fs.readFileSync('./input.txt');\n",
    "\n",
    "console.log(data.toString());\n",
    "console.log(\"Last instruction in script\");"
   ]
  },
  {
   "cell_type": "markdown",
   "metadata": {},
   "source": [
    "Notice how the *readFileSync* blocked the execution of the program until it completed the reading of the file, then returned control to the script which proceeded with the console log calls in lines 7 and 8 (You can activate line numbers in the previous code snippet by clicking the escape key and then pressing *L*). \n",
    "\n",
    "in contrast, let's study how asynchronous code works:"
   ]
  },
  {
   "cell_type": "markdown",
   "metadata": {},
   "source": [
    "### Non-blocking code example\n",
    "\n",
    "in asynchronous programming, the program does not wait for the *readFile* method to complete before proceeding to line 11. When *readFile* has completed the reading of a file, it calls the anonymous callback function with 2 parameters, an error object in case an error occurred and the actual data contained in the file."
   ]
  },
  {
   "cell_type": "code",
   "execution_count": 1,
   "metadata": {
    "collapsed": false
   },
   "outputs": [
    {
     "name": "stdout",
     "output_type": "stream",
     "text": [
      "Last instruction in script\n"
     ]
    },
    {
     "data": {
      "text/plain": [
       "undefined"
      ]
     },
     "execution_count": 1,
     "metadata": {},
     "output_type": "execute_result"
    },
    {
     "name": "stdout",
     "output_type": "stream",
     "text": [
      "I am the content of file input.txt\n"
     ]
    }
   ],
   "source": [
    "//fs is node.js module for input output operations to the file system\n",
    "var fs = require(\"fs\");\n",
    "\n",
    "//reading the file Asynchronously in using a callback function\n",
    "fs.readFile('input.txt', function (err, data) {\n",
    "    if (err) {\n",
    "       return console.error(err);\n",
    "    }\n",
    "    else {\n",
    "       console.log(data.toString());\n",
    "    }\n",
    "});\n",
    "\n",
    "\n",
    "console.log(\"Last instruction in script\");"
   ]
  },
  {
   "cell_type": "markdown",
   "metadata": {},
   "source": [
    "to conclude, a blocking program executes in sequence. It is easier for a programmer to think in terms of synchronous code. In contrast, a nonblocking program it's harder on the programmer but provides a lot of benefits to create responsive and time efficient software applications."
   ]
  },
  {
   "cell_type": "markdown",
   "metadata": {},
   "source": [
    "## Node.js event loop\n",
    "\n",
    "Node.js was built with a clear focus on the fact that I/O operations are expensive\n",
    "\n",
    "![](images/io.png)\n",
    "\n",
    "So the largest waste with current programming technologies comes from waiting for I/O to complete. There are several ways in which one can deal with the performance impact:\n",
    "\n",
    "- synchronous: you handle one request at a time, each in turn. pros: simple, cons: any one request can hold up all the other requests\n",
    "- fork a new process: you start a new process to handle each request. pros: easy, cons: does not scale well, hundreds of connections means hundreds of processes. fork() is the Unix programmer's hammer. Because it's available, every problem looks like a nail. It's usually overkill\n",
    "- threads: start a new thread to handle each request. pros: easy, and kinder to the kernel than using fork, since threads usually have much less overhead, cons: your machine may not have threads, and threaded programming can get very complicated very fast, with worries about controlling access to shared resources.\n",
    "\n",
    "The second basis thesis is that one thread-per-connection is memory-expensive. Compare for instance a graph showing memory consumption between Apache server ( which uses a single thread for every connection) and Nginx which doesn't.\n",
    "\n",
    "![](images/ApacheVSnginx.jpg)\n",
    "\n",
    "Apache is multithreaded: it spawns a thread per request (or process, it depends on the conf). You can see how that overhead eats up memory as the number of concurrent connections increases and more threads are needed to serve multiple simulataneous clients. Nginx and Node.js are not multithreaded, because threads and processes carry a heavy memory cost. They are single-threaded, but event-based. This eliminates the overhead created by thousands of threads/processes by handling many connections in a single thread.\n",
    "\n",
    "There is no way of making code run in parallel within a single thread. However, all I/O is evented and asynchronous in node.js by using separate threads for I/O operations.\n",
    "\n",
    "Having synchronous execution is good, because it simplifies writing code (compared to threads, where concurrency issues have a tendency to result in WTFs).\n",
    "In node.js, you aren't supposed to worry about what happens in the backend: just use callbacks when you are doing I/O; and you are guaranteed that your code is never interrupted and that doing I/O will not block other requests without having to incur the costs of thread/process per request (e.g. memory overhead in Apache).\n",
    "\n",
    "Having asynchronous I/O is good, because I/O is more expensive than most code and we should be doing something better than just waiting for I/O.\n",
    "\n",
    "An event loop is \"an entity that handles and processes external events and converts them into callback invocations\". So I/O calls are the points at which Node.js can switch from one request to another. At an I/O call, your code saves the callback and returns control to the node.js runtime environment. The callback will be called later when the data actually is available.\n",
    "\n",
    "![](images/node.png)\n",
    "\n",
    "Of course, on the backend, there are threads and processes for DB access and process execution. However, these are not explicitly exposed to your code, so you don't need to worry about them other than by knowing that I/O interactions e.g. with the database, or with other processes will be asynchronous from the perspective of each request since the results from those threads are returned via the event loop to your code. Compared to the Apache model, there are a lot less threads and thread overhead, since threads aren't needed for each connection; just when you absolutely positively must have something else running in parallel and even then the management is handled by Node.js.\n",
    "\n",
    "Other than I/O calls, Node.js expects that all requests return quickly; e.g. CPU-intensive work should be split off to another process with which you can interact as with events, or by using an abstraction like WebWorkers. This (obviously) means that you can't parallelize your code without another thread in the background with which you interact via events. Basically, all objects which emit events (e.g. are instances of EventEmitter) support asynchronous evented interaction and you can interact with blocking code in this manner e.g. using files, sockets or child processes all of which are EventEmitters in Node.js."
   ]
  },
  {
   "cell_type": "markdown",
   "metadata": {},
   "source": [
    "## Event emitter\n",
    "\n",
    "The Event Emitter is Node.js's implementation of the publish/subscribe design pattern, and it allows us to create listeners for events and also to emit custom Events. Let's study the following code:"
   ]
  },
  {
   "cell_type": "code",
   "execution_count": 1,
   "metadata": {
    "collapsed": false
   },
   "outputs": [
    {
     "name": "stdout",
     "output_type": "stream",
     "text": [
      "Linus Torvalds: I'm an egotistical bastard, and I name all my projects after myself. First Linux, now git.\n"
     ]
    },
    {
     "data": {
      "text/plain": [
       "true"
      ]
     },
     "execution_count": 1,
     "metadata": {},
     "output_type": "execute_result"
    }
   ],
   "source": [
    "var EventEmitter = require('events').EventEmitter;\n",
    "var util = require('util');\n",
    "\n",
    "var Person = function(name) {\n",
    "    this.name = name;\n",
    "};\n",
    "\n",
    "util.inherits(Person, EventEmitter);\n",
    "\n",
    "var linus = new Person(\"Linus Torvalds\");\n",
    "\n",
    "linus.on('speak', function(said) {\n",
    "\n",
    "    console.log(`${this.name}: ${said}`);\n",
    "\n",
    "});\n",
    "\n",
    "\n",
    "linus.emit('speak', \"I'm an egotistical bastard, and I name all my projects after myself. First Linux, now git.\");"
   ]
  },
  {
   "cell_type": "markdown",
   "metadata": {},
   "source": [
    "if line numbers are not active in the above code cell, turn them on by clicking on the cell, pressing the escape key and then L.\n",
    "\n",
    "- In line 1 we create an instance of the EventEmitter class. \n",
    "- in line 2 wait import the util module to our script\n",
    "- in lines 4 to 6  we create a constructor/class name person\n",
    "- in line 8 we make the person constructor to inherit from the EventEmitter. In this way we make our Person object capable of generating events \n",
    "- in line 10, we instantiate an object of the Person class\n",
    "- in line 12, the *on* method of the EventEmitter class is used to bind a custom event 'speak' to a callback function that simply logs to the console (line 14), the name and a sentence of the Person object.\n",
    "- in line 19 we make the instance of the person class name *linus* to emit our custom event *speak* and pass it as a 2nd argument a specific sentence."
   ]
  },
  {
   "cell_type": "markdown",
   "metadata": {},
   "source": [
    "### Creating child processes\n",
    "\n",
    "Node.js comes with a Child Process module which allows you to execute external processes in your environment. In other words, your Node.js app can run and communicate with other applications on the computer on which it is hosted."
   ]
  },
  {
   "cell_type": "code",
   "execution_count": null,
   "metadata": {
    "collapsed": true
   },
   "outputs": [],
   "source": [
    "var exec = require(\"child_process\").exec;\n",
    "exec(\"git version\", function(err, stdout) {\n",
    "    console.log(stdout);\n",
    "});"
   ]
  },
  {
   "cell_type": "code",
   "execution_count": null,
   "metadata": {
    "collapsed": true
   },
   "outputs": [],
   "source": [
    "var exec = require(\"child_process\").exec;\n",
    "//open Windows file Explorer in current folder, use \"open .\"  in Mac\n",
    "exec(\"explorer .\", function(err, stdout) {});"
   ]
  },
  {
   "cell_type": "code",
   "execution_count": null,
   "metadata": {
    "collapsed": true
   },
   "outputs": [],
   "source": [
    "var exec = require(\"child_process\").exec;\n",
    "exec(\"dir\", function(err, stdout) { //ls in mac or linux\n",
    "    console.log(stdout);\n",
    "});"
   ]
  },
  {
   "cell_type": "markdown",
   "metadata": {},
   "source": [
    "*exec* is useful to launch synchronous processes, for asynchronous processes that continuously emit data or events, the function *spawn* is more appropriate.\n",
    "\n",
    "The following script generates random quotes from Linus Torvalds continuosly.  place it in itw own file *alwaysTalking.js* and run it."
   ]
  },
  {
   "cell_type": "code",
   "execution_count": null,
   "metadata": {
    "collapsed": true
   },
   "outputs": [],
   "source": [
    "var LinusTorvaldsQuotes = [\n",
    "    \"I'm an egotistical bastard, and I name all my projects after myself. First Linux, now git.\",\n",
    "    \"Those that can, do. Those that can't, complain.\",\n",
    "    \"I'm doing a (free) operating system (just a hobby, won't be big and professional like gnu) for 386(486) AT clones.\",\n",
    "    \"No-one has ever called me a cool dude. I'm somewhere between geek and normal.\",\n",
    "    \"Intelligence is the ability to avoid doing work, yet getting the work done.\",\n",
    "    \"Talk is cheap. Show me the code.\",\n",
    "    \"Software is like sex: it's better when it's free.\",\n",
    "    \"I may make jokes about Microsoft at times, but at the same time, I think the Microsoft hatred is a disease.\",\n",
    "    \"I like offending people, because I think people who get offended should be offended.\",\n",
    "    \"Nvidia, fuck you!\",\n",
    "    \"There aren't enough swear-words in the English language, so now I'll have to call you perkeleen vittupää just to express my disgust and frustration with this crap.\",\n",
    "];\n",
    "\n",
    "var interval = setInterval(function() {\n",
    "    var i = Math.floor(Math.random() * LinusTorvaldsQuotes.length);\n",
    "    process.stdout.write(`${LinusTorvaldsQuotes[i]} \\n`);\n",
    "}, 1000);\n",
    "\n",
    "process.stdin.on('data', function(data) {\n",
    "    console.log(`STDIN Data Recieved -> ${data.toString().trim()}`);\n",
    "    clearInterval(interval);\n",
    "    process.exit();\n",
    "});"
   ]
  },
  {
   "cell_type": "markdown",
   "metadata": {},
   "source": [
    "the following script uses the spawn method to read continuously the stream of data generated by *alwaysTalking.js*."
   ]
  },
  {
   "cell_type": "code",
   "execution_count": null,
   "metadata": {
    "collapsed": true
   },
   "outputs": [],
   "source": [
    "var spawn = require(\"child_process\").spawn;\n",
    "\n",
    "var cp = spawn(\"node\", [\"alwaysTalking\"]);\n",
    "\n",
    "cp.stdout.on(\"data\", function(data) {\n",
    "    console.log(`STDOUT: ${data.toString()}`);\n",
    "});\n",
    "\n",
    "cp.on(\"close\", function() {\n",
    "    console.log(\"Child Process has ended\");\n",
    "    process.exit();\n",
    "});\n",
    "\n",
    "\n",
    "setTimeout(function() {\n",
    "    cp.stdin.write(\"stop\");\n",
    "}, 4000);"
   ]
  },
  {
   "cell_type": "markdown",
   "metadata": {},
   "source": [
    "-----------------------------------------------------"
   ]
  },
  {
   "cell_type": "markdown",
   "metadata": {},
   "source": [
    "## Exercises\n",
    "\n",
    "1.Create a node.js application *app.js* that greets a user when the user provides his or her first name and last names as flags when starting the application\n",
    "![](./images/p1.png)\n",
    "\n",
    "\n",
    "2.Create a node.js application *e2.js* that prompts the user to input in the terminal the name of a file in the same folder as the application to be read. When the user inputs a file name followed by pressing the enter key, your program should emit a 'read_file' event. An emitter instance of the EventEmitter class should bind the 'read_file' event to a callback function that tries to read the file using the module `fs`. This callback function should use the emitter instance to emit events depending on whether there was an error reading the file ( for instance if the file does not exist) or whether there was success in reading the file. Finally, you should ensure that the program exits gracefully using the appropriate object. An illustration of the program's behavior  is provided below, the file `input.txt` exists in the folder were the application is run. The file `aaa.txt` does not exist:\n",
    "\n",
    "![](./images/e2.png)"
   ]
  }
 ],
 "metadata": {
  "anaconda-cloud": {},
  "kernelspec": {
   "display_name": "Javascript (Node.js)",
   "language": "javascript",
   "name": "javascript"
  },
  "language_info": {
   "file_extension": ".js",
   "mimetype": "application/javascript",
   "name": "javascript",
   "version": "6.10.1"
  }
 },
 "nbformat": 4,
 "nbformat_minor": 0
}
