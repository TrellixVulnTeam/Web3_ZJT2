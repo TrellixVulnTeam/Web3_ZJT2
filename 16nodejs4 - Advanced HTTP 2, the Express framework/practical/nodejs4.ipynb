{
 "cells": [
  {
   "cell_type": "markdown",
   "metadata": {},
   "source": [
    "# node.js 4 - Express Framework\n",
    "\n",
    "If you look for the definition of `framework` in the dictionary you will find that it is often defined as an essential supporting structure of a building, vehicle, or object.  In software, it's essentially the same thing. A software framework is a supporting structure that allows you to build on top of it. When it comes to web development, and we want to build large APIs, or maybe HTTP servers, we can leverage web frameworks to make our life easier. There many options in the `node.js` ecosystem intended for web development but the most popular one is [Express](http://expressjs.com/).\n",
    "\n",
    "Express is a minimal and flexible Node.js web application framework that provides a robust set of features for web and mobile applications."
   ]
  },
  {
   "cell_type": "markdown",
   "metadata": {},
   "source": [
    "### Installation\n",
    "\n",
    "In order to use Express in an application you are developing, create a directory (`myapp`) for instance to hold your application and use the `npm init` command to create a `package.json` file for your application\n",
    "\n",
    "`> npm init`"
   ]
  },
  {
   "cell_type": "markdown",
   "metadata": {},
   "source": [
    "This command prompts you for a number of things, such as the name and version of your application. For now, you can simply hit RETURN to accept the defaults for most of them. You may wish though to specify the entry point of your application, that is, the name of the main file.\n",
    "\n",
    "`> entry point: (index.js)`\n",
    "\n",
    "Next, you need to install `Express` in the `myapp` directory and save it in the dependencies list contained in the `package.json` file:\n",
    "\n",
    "`> npm install express --save` \n",
    "\n",
    "The `package.json` will be updated by NPM To include `Express` and its corresponding dependencies in the dependencies  sections of your `myapp`app. This facilitates life enormously for anyone that wants to install your application since NPM will simply look into the `package.json` file and automatically install all the dependencies of your application."
   ]
  },
  {
   "cell_type": "markdown",
   "metadata": {},
   "source": [
    "### Hello world example\n",
    "\n",
    "We will start by creating a very simple Express app. In the `myapp` directory created previously, create a file named `app.js` and add the following code:"
   ]
  },
  {
   "cell_type": "code",
   "execution_count": null,
   "metadata": {
    "collapsed": true
   },
   "outputs": [],
   "source": [
    "var express = require('express')\n",
    "var app = express()\n",
    "\n",
    "app.get('/', function (req, res) {\n",
    "  res.send('Hello World!')\n",
    "})\n",
    "\n",
    "app.listen(3000, function () {\n",
    "  console.log('Example app listening on port 3000!')\n",
    "})"
   ]
  },
  {
   "cell_type": "markdown",
   "metadata": {},
   "source": [
    "The app starts a server and listens on port 3000 for connections. The app responds with “Hello World!” for requests to the root URL (/) or **route**. For every other path, it will respond with a **404 Not Found**. The req (request) and res (response) are the exact same objects that `node.js` provides.\n",
    "\n",
    "Now you can run the app with the following command:\n",
    "\n",
    "`> node app.js`\n",
    "\n",
    "Then, use your browser to navigate to http://localhost:3000/ in a browser to see the output of your application."
   ]
  },
  {
   "cell_type": "markdown",
   "metadata": {},
   "source": [
    "### Express application generator\n",
    "\n",
    "The most usual way of using `Express` is to use  the `Express` generator, which creates the scaffolding for a full app with numerous JavaScript files, Jade templates, and sub-directories created by default for various purposes. Hence, we will use the application generator tool, `express-generator`, to quickly create an application skeleton.\n",
    "\n",
    "The `express-generator` package installs the express command-line tool. Since this is a command-line tool,  you might want to install it globally  with the `-g` flag. \n",
    "\n",
    "`> npm install express-generator -g`\n",
    "\n",
    "The following command creates an `Express` app named `app` in the current working directory:\n",
    "\n",
    "`> express --view=jade app`\n",
    "\n",
    "Notice that the previous command has created a number of files in your `app` working directory with the following directory structure:"
   ]
  },
  {
   "cell_type": "raw",
   "metadata": {},
   "source": [
    ".\n",
    "├── app.js\n",
    "├── bin\n",
    "│   └── www\n",
    "├── package.json\n",
    "├── public\n",
    "│   ├── images\n",
    "│   ├── javascripts\n",
    "│   └── stylesheets\n",
    "│       └── style.css\n",
    "├── routes\n",
    "│   ├── index.js\n",
    "│   └── users.js\n",
    "└── views\n",
    "    ├── error.jade\n",
    "    ├── index.jade\n",
    "    └── layout.jade\n",
    "\n",
    "7 directories, 9 files"
   ]
  },
  {
   "cell_type": "markdown",
   "metadata": {},
   "source": [
    "Let's demonstrate the efficiency of NPM to install all the dependencies contained in those files auto generated by the framework.\n",
    "\n",
    "`> cd app`\n",
    "\n",
    "`> npm install`\n",
    "\n",
    "Finally, we can run the app with the following command\n",
    "\n",
    "`> set DEBUG=app:* & npm start`\n",
    "\n",
    "We can now navigate to http://localhost:3000/ in the browser to access the app."
   ]
  },
  {
   "cell_type": "markdown",
   "metadata": {},
   "source": [
    "### Basic Routing\n",
    "\n",
    "Routing refers to determining how an application responds to a client request to a particular endpoint, which is a URI (or path) and a specific HTTP request method (GET, POST, and so on).\n",
    "\n",
    "Each route can have one or more handler functions, which are executed when the route is matched.\n",
    "\n",
    "Route definition takes the following structure:\n",
    "\n",
    "`app.METHOD(PATH, HANDLER)`\n",
    "\n",
    "Where:\n",
    "\n",
    "- app is an instance of express.\n",
    "- METHOD is an HTTP request method, in lowercase.\n",
    "- PATH is a path on the server.\n",
    "- HANDLER is the function executed when the route is matched.\n",
    "\n",
    "The following examples illustrate defining simple routes.\n",
    "\n",
    "Respond with Hello World! on the homepage:"
   ]
  },
  {
   "cell_type": "code",
   "execution_count": null,
   "metadata": {
    "collapsed": true
   },
   "outputs": [],
   "source": [
    "app.get('/', function (req, res) {\n",
    "  res.send('Hello World!')\n",
    "})"
   ]
  },
  {
   "cell_type": "markdown",
   "metadata": {},
   "source": [
    "Respond to POST request on the root route (/), the application’s home page:"
   ]
  },
  {
   "cell_type": "code",
   "execution_count": null,
   "metadata": {
    "collapsed": true
   },
   "outputs": [],
   "source": [
    "app.post('/', function (req, res) {\n",
    "  res.send('Got a POST request')\n",
    "})"
   ]
  },
  {
   "cell_type": "markdown",
   "metadata": {},
   "source": [
    "Respond to a PUT request to the /user route:"
   ]
  },
  {
   "cell_type": "code",
   "execution_count": null,
   "metadata": {
    "collapsed": true
   },
   "outputs": [],
   "source": [
    "app.put('/user', function (req, res) {\n",
    "  res.send('Got a PUT request at /user')\n",
    "})"
   ]
  },
  {
   "cell_type": "markdown",
   "metadata": {},
   "source": [
    "Respond to a DELETE request to the /user route:"
   ]
  },
  {
   "cell_type": "code",
   "execution_count": null,
   "metadata": {
    "collapsed": true
   },
   "outputs": [],
   "source": [
    "app.delete('/user', function (req, res) {\n",
    "  res.send('Got a DELETE request at /user')\n",
    "})"
   ]
  },
  {
   "cell_type": "markdown",
   "metadata": {},
   "source": [
    "### Serving static files in Express\n",
    "\n",
    "To serve static files such as images, CSS files, and JavaScript files, use the express.static built-in middleware function in Express.\n",
    "\n",
    "Pass the name of the directory that contains the static assets to the express.static middleware function to start serving the files directly. For example, use the following code to serve images, CSS files, and JavaScript files in a directory named public:"
   ]
  },
  {
   "cell_type": "code",
   "execution_count": null,
   "metadata": {
    "collapsed": true
   },
   "outputs": [],
   "source": [
    "app.use(express.static('public'))"
   ]
  },
  {
   "cell_type": "markdown",
   "metadata": {},
   "source": [
    "Now, you can load the files that are in the `public` directory, like for instance in a hypothetical scenario:\n",
    "\n",
    "- http://localhost:3000/images/kitten.jpg\n",
    "- http://localhost:3000/css/style.css\n",
    "- http://localhost:3000/js/app.js\n",
    "- http://localhost:3000/images/bg.png\n",
    "- http://localhost:3000/hello.html"
   ]
  },
  {
   "cell_type": "markdown",
   "metadata": {},
   "source": [
    "To use multiple static assets directories, call the `express.static` middleware function multiple times:"
   ]
  },
  {
   "cell_type": "code",
   "execution_count": null,
   "metadata": {
    "collapsed": true
   },
   "outputs": [],
   "source": [
    "app.use(express.static('public'))\n",
    "app.use(express.static('files'))"
   ]
  },
  {
   "cell_type": "markdown",
   "metadata": {},
   "source": [
    "Express looks up the files in the order in which you set the static directories with the express.static middleware function.\n",
    "\n",
    "To create a virtual path prefix (where the path does not actually exist in the file system) for files that are served by the express.static function, specify a mount path for the static directory, as shown below:"
   ]
  },
  {
   "cell_type": "code",
   "execution_count": null,
   "metadata": {
    "collapsed": true
   },
   "outputs": [],
   "source": [
    "app.use('/static', express.static('public'))"
   ]
  },
  {
   "cell_type": "markdown",
   "metadata": {},
   "source": [
    "Now, you can load the files that are in the public directory from the /static path prefix.\n",
    "\n",
    "- http://localhost:3000/static/images/kitten.jpg\n",
    "- http://localhost:3000/static/css/style.css\n",
    "- http://localhost:3000/static/js/app.js\n",
    "- http://localhost:3000/static/images/bg.png\n",
    "- http://localhost:3000/static/hello.html"
   ]
  },
  {
   "cell_type": "markdown",
   "metadata": {},
   "source": [
    "### Route methods\n",
    "\n",
    "A route method is derived from one of the HTTP methods, and is attached to an instance of the Express class. The following code is an example of routes that are defined for the GET and the POST methods to the root of the app."
   ]
  },
  {
   "cell_type": "code",
   "execution_count": null,
   "metadata": {
    "collapsed": true
   },
   "outputs": [],
   "source": [
    "// GET method route\n",
    "app.get('/', function (req, res) {\n",
    "  res.send('GET request to the homepage')\n",
    "})\n",
    "\n",
    "// POST method route\n",
    "app.post('/', function (req, res) {\n",
    "  res.send('POST request to the homepage')\n",
    "})"
   ]
  },
  {
   "cell_type": "markdown",
   "metadata": {},
   "source": [
    "Express supports the following routing methods that correspond to HTTP methods: get, post, put, head, delete, options, trace, copy, lock, mkcol, move, purge, propfind, proppatch, unlock, report, mkactivity, checkout, merge, m-search, notify, subscribe, unsubscribe, patch, search, and connect.\n",
    "\n",
    "There is a special routing method, app.all(), which is not derived from any HTTP method. This method is used for loading middleware functions at a path for all request methods.\n",
    "\n",
    "In the following example, the handler will be executed for requests to “/secret” whether you are using GET, POST, PUT, DELETE, or any other HTTP request method that is supported in the http module."
   ]
  },
  {
   "cell_type": "code",
   "execution_count": null,
   "metadata": {
    "collapsed": true
   },
   "outputs": [],
   "source": [
    "app.all('/secret', function (req, res, next) {\n",
    "  console.log('Accessing the secret section ...')\n",
    "  next() // pass control to the next handler\n",
    "})"
   ]
  },
  {
   "cell_type": "markdown",
   "metadata": {},
   "source": [
    "### Route paths\n",
    "\n",
    "Route paths, in combination with a request method, define the endpoints at which requests can be made. Route paths can be strings, string patterns, or regular expressions.\n",
    "\n",
    "The characters ?, +, *, and () are subsets of their regular expression counterparts. The hyphen (-) and the dot (.) are interpreted literally by string-based paths.\n",
    "\n",
    "Here are some examples of route paths based on strings.\n",
    "\n",
    "This route path will match requests to the root route, /."
   ]
  },
  {
   "cell_type": "code",
   "execution_count": null,
   "metadata": {
    "collapsed": true
   },
   "outputs": [],
   "source": [
    "app.get('/', function (req, res) {\n",
    "  res.send('root')\n",
    "})"
   ]
  },
  {
   "cell_type": "markdown",
   "metadata": {},
   "source": [
    "This route path will match requests to /about."
   ]
  },
  {
   "cell_type": "code",
   "execution_count": null,
   "metadata": {
    "collapsed": true
   },
   "outputs": [],
   "source": [
    "app.get('/about', function (req, res) {\n",
    "  res.send('about')\n",
    "})"
   ]
  },
  {
   "cell_type": "markdown",
   "metadata": {},
   "source": [
    "This route path will match requests to /random.text."
   ]
  },
  {
   "cell_type": "code",
   "execution_count": null,
   "metadata": {
    "collapsed": true
   },
   "outputs": [],
   "source": [
    "app.get('/random.text', function (req, res) {\n",
    "  res.send('random.text')\n",
    "})"
   ]
  },
  {
   "cell_type": "markdown",
   "metadata": {},
   "source": [
    "Here are some examples of route paths based on string patterns.\n",
    "\n",
    "This route path will match acd and abcd."
   ]
  },
  {
   "cell_type": "code",
   "execution_count": null,
   "metadata": {
    "collapsed": true
   },
   "outputs": [],
   "source": [
    "app.get('/ab?cd', function (req, res) {\n",
    "  res.send('ab?cd')\n",
    "})"
   ]
  },
  {
   "cell_type": "markdown",
   "metadata": {},
   "source": [
    "This route path will match abcd, abbcd, abbbcd, and so on."
   ]
  },
  {
   "cell_type": "code",
   "execution_count": null,
   "metadata": {
    "collapsed": true
   },
   "outputs": [],
   "source": [
    "app.get('/ab+cd', function (req, res) {\n",
    "  res.send('ab+cd')\n",
    "})"
   ]
  },
  {
   "cell_type": "markdown",
   "metadata": {},
   "source": [
    "This route path will match abcd, abxcd, abRANDOMcd, ab123cd, and so on."
   ]
  },
  {
   "cell_type": "code",
   "execution_count": null,
   "metadata": {
    "collapsed": true
   },
   "outputs": [],
   "source": [
    "app.get('/ab*cd', function (req, res) {\n",
    "  res.send('ab*cd')\n",
    "})"
   ]
  },
  {
   "cell_type": "markdown",
   "metadata": {},
   "source": [
    "This route path will match /abe and /abcde."
   ]
  },
  {
   "cell_type": "code",
   "execution_count": null,
   "metadata": {
    "collapsed": true
   },
   "outputs": [],
   "source": [
    "app.get('/ab(cd)?e', function (req, res) {\n",
    "  res.send('ab(cd)?e')\n",
    "})"
   ]
  },
  {
   "cell_type": "markdown",
   "metadata": {},
   "source": [
    "Examples of route paths based on regular expressions:\n",
    "\n",
    "This route path will match anything with an “a” in the route name."
   ]
  },
  {
   "cell_type": "code",
   "execution_count": null,
   "metadata": {
    "collapsed": true
   },
   "outputs": [],
   "source": [
    "app.get(/a/, function (req, res) {\n",
    "  res.send('/a/')\n",
    "})"
   ]
  },
  {
   "cell_type": "markdown",
   "metadata": {},
   "source": [
    "This route path will match butterfly and dragonfly, but not butterflyman, dragonflyman, and so on."
   ]
  },
  {
   "cell_type": "code",
   "execution_count": null,
   "metadata": {
    "collapsed": true
   },
   "outputs": [],
   "source": [
    "app.get(/.*fly$/, function (req, res) {\n",
    "  res.send('/.*fly$/')\n",
    "})"
   ]
  },
  {
   "cell_type": "markdown",
   "metadata": {},
   "source": [
    "### Route parameters\n",
    "\n",
    "Route parameters are named URL segments that are used to capture the values specified at their position in the URL. The captured values are populated in the req.params object, with the name of the route parameter specified in the path as their respective keys.\n",
    "\n",
    "To define routes with route parameters, simply specify the route parameters in the path of the route as shown below."
   ]
  },
  {
   "cell_type": "code",
   "execution_count": null,
   "metadata": {
    "collapsed": true
   },
   "outputs": [],
   "source": [
    "app.get('/users/:userId/books/:bookId', function (req, res) {\n",
    "  res.send(req.params)\n",
    "})"
   ]
  },
  {
   "cell_type": "markdown",
   "metadata": {},
   "source": [
    "Make sure you understand that a request URL maps to a defined route path and how the route parameters are extracted by `Express`:"
   ]
  },
  {
   "cell_type": "raw",
   "metadata": {},
   "source": [
    "Route path: /users/:userId/books/:bookId\n",
    "Request URL: http://localhost:3000/users/34/books/8989\n",
    "req.params: { \"userId\": \"34\", \"bookId\": \"8989\" }"
   ]
  },
  {
   "cell_type": "markdown",
   "metadata": {},
   "source": [
    "### Route handlers\n",
    "\n",
    "You can provide multiple callback functions that behave like middleware to handle a request. The only exception is that these callbacks might invoke next('route') to bypass the remaining route callbacks. You can use this mechanism to impose pre-conditions on a route, then pass control to subsequent routes if there’s no reason to proceed with the current route.\n",
    "\n",
    "Route handlers can be in the form of a function, an array of functions, or combinations of both, as shown in the following examples.\n",
    "\n",
    "A single callback function can handle a route. For example:"
   ]
  },
  {
   "cell_type": "code",
   "execution_count": null,
   "metadata": {
    "collapsed": true
   },
   "outputs": [],
   "source": [
    "app.get('/example/a', function (req, res) {\n",
    "  res.send('Hello from A!')\n",
    "})"
   ]
  },
  {
   "cell_type": "markdown",
   "metadata": {},
   "source": [
    "More than one callback function can handle a route (make sure you specify the next object). For example:"
   ]
  },
  {
   "cell_type": "code",
   "execution_count": null,
   "metadata": {
    "collapsed": true
   },
   "outputs": [],
   "source": [
    "app.get('/example/b', function (req, res, next) {\n",
    "  console.log('the response will be sent by the next function ...')\n",
    "  next()\n",
    "}, function (req, res) {\n",
    "  res.send('Hello from B!')\n",
    "})"
   ]
  },
  {
   "cell_type": "markdown",
   "metadata": {},
   "source": [
    "An array of callback functions can handle a route. For example:"
   ]
  },
  {
   "cell_type": "code",
   "execution_count": null,
   "metadata": {
    "collapsed": true
   },
   "outputs": [],
   "source": [
    "var cb0 = function (req, res, next) {\n",
    "  console.log('CB0')\n",
    "  next()\n",
    "}\n",
    "\n",
    "var cb1 = function (req, res, next) {\n",
    "  console.log('CB1')\n",
    "  next()\n",
    "}\n",
    "\n",
    "var cb2 = function (req, res) {\n",
    "  res.send('Hello from C!')\n",
    "}\n",
    "\n",
    "app.get('/example/c', [cb0, cb1, cb2])"
   ]
  },
  {
   "cell_type": "markdown",
   "metadata": {},
   "source": [
    "A combination of independent functions and arrays of functions can handle a route. For example:"
   ]
  },
  {
   "cell_type": "code",
   "execution_count": null,
   "metadata": {
    "collapsed": true
   },
   "outputs": [],
   "source": [
    "var cb0 = function (req, res, next) {\n",
    "  console.log('CB0')\n",
    "  next()\n",
    "}\n",
    "\n",
    "var cb1 = function (req, res, next) {\n",
    "  console.log('CB1')\n",
    "  next()\n",
    "}\n",
    "\n",
    "app.get('/example/d', [cb0, cb1], function (req, res, next) {\n",
    "  console.log('the response will be sent by the next function ...')\n",
    "  next()\n",
    "}, function (req, res) {\n",
    "  res.send('Hello from D!')\n",
    "})"
   ]
  },
  {
   "cell_type": "markdown",
   "metadata": {},
   "source": [
    "### Response methods"
   ]
  },
  {
   "cell_type": "markdown",
   "metadata": {},
   "source": [
    "The methods on the response object (res) in the following table can send a response to the client, and terminate the request-response cycle. If none of these methods are called from a route handler, the client request will be left hanging.\n",
    "\n",
    "- res.download(): Prompt a file to be downloaded.\n",
    "- res.end(): End the response process.\n",
    "- res.json(): Send a JSON response.\n",
    "- res.jsonp(): Send a JSON response with JSONP support.\n",
    "- res.redirect(): Redirect a request.\n",
    "- res.render():\tRender a view template.\n",
    "- res.send(): Send a response of various types.\n",
    "- res.sendFile(): Send a file as an octet stream.\n",
    "- res.sendStatus():\tSet the response status code and send its string representation as the response body."
   ]
  },
  {
   "cell_type": "markdown",
   "metadata": {},
   "source": [
    "### app.route()\n",
    "\n",
    "You can create chainable route handlers for a route path by using app.route(). Because the path is specified at a single location, creating modular routes is helpful, as is reducing redundancy and typos. For more information about routes, see: Router() documentation.\n",
    "\n",
    "Here is an example of chained route handlers that are defined by using app.route()."
   ]
  },
  {
   "cell_type": "code",
   "execution_count": null,
   "metadata": {
    "collapsed": true
   },
   "outputs": [],
   "source": [
    "app.route('/book')\n",
    "  .get(function (req, res) {\n",
    "    res.send('Get a random book')\n",
    "  })\n",
    "  .post(function (req, res) {\n",
    "    res.send('Add a book')\n",
    "  })\n",
    "  .put(function (req, res) {\n",
    "    res.send('Update the book')\n",
    "  })"
   ]
  },
  {
   "cell_type": "markdown",
   "metadata": {},
   "source": [
    "### express.Router\n",
    "\n",
    "Use the express.Router class to create modular, mountable route handlers. A Router instance is a complete middleware and routing system; for this reason, it is often referred to as a “mini-app”.\n",
    "\n",
    "The following example creates a router as a module, loads a middleware function in it, defines some routes, and mounts the router module on a path in the main app.\n",
    "\n",
    "Create a router file named birds.js in the app directory, with the following content:"
   ]
  },
  {
   "cell_type": "code",
   "execution_count": null,
   "metadata": {
    "collapsed": true
   },
   "outputs": [],
   "source": [
    "var express = require('express')\n",
    "var router = express.Router()\n",
    "\n",
    "// middleware that is specific to this router\n",
    "router.use(function timeLog (req, res, next) {\n",
    "  console.log('Time: ', Date.now())\n",
    "  next()\n",
    "})\n",
    "// define the home page route\n",
    "router.get('/', function (req, res) {\n",
    "  res.send('Birds home page')\n",
    "})\n",
    "// define the about route\n",
    "router.get('/about', function (req, res) {\n",
    "  res.send('About birds')\n",
    "})\n",
    "\n",
    "module.exports = router"
   ]
  },
  {
   "cell_type": "markdown",
   "metadata": {},
   "source": [
    "Then, load the router module in the app:"
   ]
  },
  {
   "cell_type": "code",
   "execution_count": null,
   "metadata": {
    "collapsed": true
   },
   "outputs": [],
   "source": [
    "var birds = require('./birds')\n",
    "\n",
    "// ...\n",
    "\n",
    "app.use('/birds', birds)"
   ]
  },
  {
   "cell_type": "markdown",
   "metadata": {},
   "source": [
    "The app will now be able to handle requests to /birds and /birds/about, as well as call the timeLog middleware function that is specific to the route."
   ]
  },
  {
   "cell_type": "markdown",
   "metadata": {},
   "source": [
    "### Using middleware\n",
    "\n",
    "Express is a routing and middleware web framework that has minimal functionality of its own: An Express application is essentially a series of middleware function calls.\n",
    "\n",
    "Middleware functions are functions that have access to the request object (req), the response object (res), and the next middleware function in the application’s request-response cycle. The next middleware function is commonly denoted by a variable named next.\n",
    "\n",
    "Middleware functions can perform the following tasks:\n",
    "\n",
    "- Execute any code.\n",
    "- Make changes to the request and the response objects.\n",
    "- End the request-response cycle.\n",
    "- Call the next middleware function in the stack.\n",
    "- If the current middleware function does not end the request-response cycle, it must call next() to pass control to the next middleware function. Otherwise, the request will be left hanging."
   ]
  },
  {
   "cell_type": "markdown",
   "metadata": {},
   "source": [
    "### Writing middleware for use in Express apps\n",
    "\n",
    "Middleware functions are functions that have access to the request object (req), the response object (res), and the next function in the application’s request-response cycle. The next function is a function in the Express router which, when invoked, executes the middleware succeeding the current middleware.\n",
    "\n",
    "Middleware functions can perform the following tasks:\n",
    "\n",
    "- Execute any code.\n",
    "- Make changes to the request and the response objects.\n",
    "- End the request-response cycle.\n",
    "- Call the next middleware in the stack.\n",
    "\n",
    "If the current middleware function does not end the request-response cycle, it must call next() to pass control to the next middleware function. Otherwise, the request will be left hanging.\n",
    "\n",
    "The following figure shows the elements of a middleware function call:\n",
    "\n",
    "![](./images/express-mw.png)\n",
    "\n",
    "Here is an example of a simple “Hello World” Express application. "
   ]
  },
  {
   "cell_type": "code",
   "execution_count": null,
   "metadata": {
    "collapsed": true
   },
   "outputs": [],
   "source": [
    "var express = require('express')\n",
    "var app = express()\n",
    "\n",
    "app.get('/', function (req, res) {\n",
    "  res.send('Hello World!')\n",
    "})\n",
    "\n",
    "app.listen(3000)"
   ]
  },
  {
   "cell_type": "markdown",
   "metadata": {},
   "source": [
    "Next, we will define a middleware functions and add it to the application.\n",
    "\n",
    "Here is a simple example of a middleware function called “myLogger”. This function just prints “LOGGED” when a request to the app passes through it. The middleware function is assigned to a variable named myLogger."
   ]
  },
  {
   "cell_type": "code",
   "execution_count": null,
   "metadata": {
    "collapsed": true
   },
   "outputs": [],
   "source": [
    "var myLogger = function (req, res, next) {\n",
    "  console.log('LOGGED')\n",
    "  next()\n",
    "}"
   ]
  },
  {
   "cell_type": "markdown",
   "metadata": {},
   "source": [
    "Notice the call above to next(). Calling this function invokes the next middleware function in the app. The next() function is not a part of the `Node.js` or `Express` API, but is the third argument that is passed to the middleware function. The next() function could be named anything, but by convention it is always named “next”. To avoid confusion, always use this convention.\n",
    "\n",
    "\n",
    "To load the middleware function, call app.use(), specifying the middleware function. For example, the following code loads the myLogger middleware function before the route to the root path (/)."
   ]
  },
  {
   "cell_type": "code",
   "execution_count": null,
   "metadata": {
    "collapsed": true
   },
   "outputs": [],
   "source": [
    "var express = require('express')\n",
    "var app = express()\n",
    "\n",
    "var myLogger = function (req, res, next) {\n",
    "  console.log('LOGGED')\n",
    "  next()\n",
    "}\n",
    "\n",
    "app.use(myLogger)\n",
    "\n",
    "app.get('/', function (req, res) {\n",
    "  res.send('Hello World!')\n",
    "})\n",
    "\n",
    "app.listen(3000)"
   ]
  },
  {
   "cell_type": "markdown",
   "metadata": {},
   "source": [
    "Every time the app receives a request, it prints the message “LOGGED” to the terminal.\n",
    "\n",
    "The order of middleware loading is important: middleware functions that are loaded first are also executed first.\n",
    "\n",
    "If myLogger is loaded after the route to the root path, the request never reaches it and the app doesn’t print “LOGGED”, because the route handler of the root path terminates the request-response cycle.\n",
    "\n",
    "The middleware function myLogger simply prints a message, then passes on the request to the next middleware function in the stack by calling the next() function."
   ]
  },
  {
   "cell_type": "markdown",
   "metadata": {},
   "source": [
    "### Application-level middleware\n",
    "\n",
    "You can bind application-level middleware to an instance of the app object by using the `app.use()` and `app.METHOD()` functions, where  METHOD is the HTTP method of the request that the middleware function handles (such as GET, PUT, or POST) in lowercase.\n",
    "\n",
    "This example shows a middleware function with no mount path. The function is executed every time the app receives a request."
   ]
  },
  {
   "cell_type": "code",
   "execution_count": null,
   "metadata": {
    "collapsed": true
   },
   "outputs": [],
   "source": [
    "var app = express()\n",
    "\n",
    "app.use(function (req, res, next) {\n",
    "  console.log('Time:', Date.now())\n",
    "  next()\n",
    "})"
   ]
  },
  {
   "cell_type": "markdown",
   "metadata": {},
   "source": [
    "This example shows a middleware function mounted on the /user/:id path. The function is executed for any type of HTTP request on the /user/:id path."
   ]
  },
  {
   "cell_type": "code",
   "execution_count": null,
   "metadata": {
    "collapsed": true
   },
   "outputs": [],
   "source": [
    "app.use('/user/:id', function (req, res, next) {\n",
    "  console.log('Request Type:', req.method)\n",
    "  next()\n",
    "})"
   ]
  },
  {
   "cell_type": "markdown",
   "metadata": {},
   "source": [
    "This example shows a route and its handler function (middleware system). The function handles GET requests to the `/user/:id` path."
   ]
  },
  {
   "cell_type": "code",
   "execution_count": null,
   "metadata": {
    "collapsed": true
   },
   "outputs": [],
   "source": [
    "app.get('/user/:id', function (req, res, next) {\n",
    "  res.send('USER')\n",
    "})"
   ]
  },
  {
   "cell_type": "markdown",
   "metadata": {},
   "source": [
    "Here is an example of loading a series of middleware functions at a mount point, with a mount path. It illustrates a middleware sub-stack that prints request info for any type of HTTP request to the `/user/:id` path."
   ]
  },
  {
   "cell_type": "code",
   "execution_count": null,
   "metadata": {
    "collapsed": true
   },
   "outputs": [],
   "source": [
    "app.use('/user/:id', function (req, res, next) {\n",
    "  console.log('Request URL:', req.originalUrl)\n",
    "  next()\n",
    "}, function (req, res, next) {\n",
    "  console.log('Request Type:', req.method)\n",
    "  next()\n",
    "})"
   ]
  },
  {
   "cell_type": "markdown",
   "metadata": {},
   "source": [
    "### Error-handling middleware\n",
    "\n",
    "Error-handling middleware always takes four arguments. You must provide four arguments to identify it as an error-handling middleware function. Even if you don’t need to use the next object, you must specify it to maintain the signature. Otherwise, the next object will be interpreted as regular middleware and will fail to handle errors.\n",
    "\n",
    "Define error-handling middleware functions in the same way as other middleware functions, except with four arguments instead of three, specifically with the signature (err, req, res, next)):"
   ]
  },
  {
   "cell_type": "code",
   "execution_count": null,
   "metadata": {
    "collapsed": true
   },
   "outputs": [],
   "source": [
    "app.use(function (err, req, res, next) {\n",
    "  console.error(err.stack)\n",
    "  res.status(500).send('Something broke!')\n",
    "})"
   ]
  },
  {
   "cell_type": "markdown",
   "metadata": {},
   "source": [
    "You define error-handling middleware last, after other app.use() and routes calls; for example:"
   ]
  },
  {
   "cell_type": "code",
   "execution_count": null,
   "metadata": {
    "collapsed": true
   },
   "outputs": [],
   "source": [
    "var bodyParser = require('body-parser')\n",
    "var methodOverride = require('method-override')\n",
    "\n",
    "app.use(bodyParser.urlencoded({\n",
    "  extended: true\n",
    "}))\n",
    "app.use(bodyParser.json())\n",
    "app.use(methodOverride())\n",
    "app.use(function (err, req, res, next) {\n",
    "  // logic\n",
    "})"
   ]
  },
  {
   "cell_type": "markdown",
   "metadata": {},
   "source": [
    "Responses from within a middleware function can be in any format that you prefer, such as an HTML error page, a simple message, or a JSON string.\n",
    "\n",
    "Notice that when not calling “next” in an error-handling function, you are responsible for writing (and ending) the response. Otherwise those requests will “hang” and will not be eligible for garbage collection."
   ]
  },
  {
   "cell_type": "code",
   "execution_count": null,
   "metadata": {
    "collapsed": true
   },
   "outputs": [],
   "source": [
    "function clientErrorHandler (err, req, res, next) {\n",
    "  if (req.xhr) {\n",
    "    res.status(500).send({ error: 'Something failed!' })\n",
    "  } else {\n",
    "    next(err)\n",
    "  }\n",
    "}"
   ]
  },
  {
   "cell_type": "markdown",
   "metadata": {},
   "source": [
    "If you have a route handler with multiple callback functions you can use the route parameter to skip to the next route handler. For example:"
   ]
  },
  {
   "cell_type": "code",
   "execution_count": null,
   "metadata": {
    "collapsed": true
   },
   "outputs": [],
   "source": [
    "app.get('/a_route_behind_paywall',\n",
    "  function checkIfPaidSubscriber (req, res, next) {\n",
    "    if (!req.user.hasPaid) {\n",
    "      // continue handling this request\n",
    "      next('route')\n",
    "    }\n",
    "  }, function getPaidContent (req, res, next) {\n",
    "    PaidContent.find(function (err, doc) {\n",
    "      if (err) return next(err)\n",
    "      res.json(doc)\n",
    "    })\n",
    "  })"
   ]
  },
  {
   "cell_type": "markdown",
   "metadata": {},
   "source": [
    "In this example, the getPaidContent handler will be skipped but any remaining handlers in app for `/a_route_behind_paywall` would continue to be executed.\n",
    "\n",
    "Express comes with a built-in error handler, which takes care of any errors that might be encountered in the app. This default error-handling middleware function is added at the end of the middleware function stack.\n",
    "\n",
    "If you pass an error to next() and you do not handle it in an error handler, it will be handled by the built-in error handler; the error will be written to the client with the stack trace. The stack trace is not included in the production environment.\n",
    "\n",
    "If you call next() with an error after you have started writing the response (for example, if you encounter an error while streaming the response to the client) the Express default error handler closes the connection and fails the request.\n",
    "\n",
    "So when you add a custom error handler, you will want to delegate to the default error handling mechanisms in Express, when the headers have already been sent to the client:"
   ]
  },
  {
   "cell_type": "code",
   "execution_count": null,
   "metadata": {
    "collapsed": true
   },
   "outputs": [],
   "source": [
    "function errorHandler (err, req, res, next) {\n",
    "  if (res.headersSent) {\n",
    "    return next(err)\n",
    "  }\n",
    "  res.status(500)\n",
    "  res.render('error', { error: err })\n",
    "}"
   ]
  },
  {
   "cell_type": "markdown",
   "metadata": {},
   "source": [
    "Note that the default error handler can get triggered if you call next() with an error in your code more than once, even if custom error handling middleware is in place."
   ]
  },
  {
   "cell_type": "markdown",
   "metadata": {},
   "source": [
    "### Built-in middleware\n",
    "\n",
    "Starting with version 4.x, the only built-in middleware function in Express is `express.static`. This function is based on serve-static, and is responsible for serving static assets such as HTML files, images, and so on.\n",
    "\n",
    "The function signature is:\n",
    "\n",
    "`express.static(root, [options])`\n",
    "\n",
    "The root argument specifies the root directory from which to serve static assets. Here is an example of using the express.static middleware function with an elaborate options object:"
   ]
  },
  {
   "cell_type": "code",
   "execution_count": null,
   "metadata": {
    "collapsed": true
   },
   "outputs": [],
   "source": [
    "var options = {\n",
    "  dotfiles: 'ignore',\n",
    "  etag: false,\n",
    "  extensions: ['htm', 'html'],\n",
    "  index: false,\n",
    "  maxAge: '1d',\n",
    "  redirect: false,\n",
    "  setHeaders: function (res, path, stat) {\n",
    "    res.set('x-timestamp', Date.now())\n",
    "  }\n",
    "}\n",
    "\n",
    "app.use(express.static('public', options))"
   ]
  },
  {
   "cell_type": "markdown",
   "metadata": {},
   "source": [
    "### Third-party middleware\n",
    "\n",
    "Use third-party middleware to add functionality to Express apps.\n",
    "\n",
    "Install the Node.js module for the required functionality, then load it in your app at the application level or at the router level.\n",
    "\n",
    "The following example illustrates installing and loading the cookie-parsing middleware function cookie-parser.\n",
    "\n",
    "`> npm install cookie-parser`"
   ]
  },
  {
   "cell_type": "code",
   "execution_count": null,
   "metadata": {
    "collapsed": true
   },
   "outputs": [],
   "source": [
    "var express = require('express')\n",
    "var app = express()\n",
    "var cookieParser = require('cookie-parser')\n",
    "\n",
    "// load the cookie-parsing middleware\n",
    "app.use(cookieParser())"
   ]
  },
  {
   "cell_type": "markdown",
   "metadata": {},
   "source": [
    "### Using template engines with Express\n",
    "\n",
    "A template engine enables you to use static template files in your application. At runtime, the template engine replaces variables in a template file with actual values, and transforms the template into an HTML file sent to the client. This approach makes it easier to design an HTML page.\n",
    "\n",
    "Some popular template engines that work with `Express` are `Pug`, `Mustache`, and `EJS`. The `Express` application generator uses `Jade` as its default, but it also supports several others.\n",
    "\n",
    "To render template files, set the following application setting properties, set in `app.js` in the default app created by the generator:\n",
    "\n",
    "- views, the directory where the template files are located. Eg: app.set('views', './views'). This defaults to the views directory in the application root directory.\n",
    "- view engine, the template engine to use. For example, to use the Pug template engine: app.set('view engine', 'pug').\n",
    "\n",
    "Then install the corresponding template engine npm package; for example to install Pug:\n",
    "\n",
    "`> npm install pug --save`\n",
    "\n",
    "After the view engine is set, you don’t have to specify the engine or load the template engine module in your app; Express loads the module internally, as shown below (for the above example).\n",
    "\n",
    "`app.set('view engine', 'pug')`\n",
    "\n",
    "Create a Pug template file named `index.pug` in the views directory, with the following content:"
   ]
  },
  {
   "cell_type": "raw",
   "metadata": {},
   "source": [
    "html\n",
    "  head\n",
    "    title= title\n",
    "  body\n",
    "    h1= message    "
   ]
  },
  {
   "cell_type": "markdown",
   "metadata": {},
   "source": [
    "Then create a route to render the `index.pug` file. If the view engine property is not set, you must specify the extension of the view file. Otherwise, you can omit it."
   ]
  },
  {
   "cell_type": "code",
   "execution_count": null,
   "metadata": {
    "collapsed": true
   },
   "outputs": [],
   "source": [
    "app.get('/', function (req, res) {\n",
    "  res.render('index', { title: 'Hey', message: 'Hello there!' })\n",
    "})"
   ]
  },
  {
   "cell_type": "markdown",
   "metadata": {},
   "source": [
    "When you make a request to the home page, the `index.pug` file will be rendered as HTML."
   ]
  }
 ],
 "metadata": {
  "anaconda-cloud": {},
  "kernelspec": {
   "display_name": "Javascript (Node.js)",
   "language": "javascript",
   "name": "javascript"
  },
  "language_info": {
   "file_extension": ".js",
   "mimetype": "application/javascript",
   "name": "javascript",
   "version": "6.10.1"
  }
 },
 "nbformat": 4,
 "nbformat_minor": 0
}
